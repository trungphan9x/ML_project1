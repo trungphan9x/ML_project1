{
  "nbformat": 4,
  "nbformat_minor": 0,
  "metadata": {
    "colab": {
      "name": "trung_colab.ipynb",
      "provenance": [],
      "toc_visible": true,
      "authorship_tag": "ABX9TyNhYjEXy49T0PQC4+UNvo0v",
      "include_colab_link": true
    },
    "kernelspec": {
      "name": "python3",
      "display_name": "Python 3"
    },
    "language_info": {
      "name": "python"
    }
  },
  "cells": [
    {
      "cell_type": "markdown",
      "metadata": {
        "id": "view-in-github",
        "colab_type": "text"
      },
      "source": [
        "<a href=\"https://colab.research.google.com/github/trungphan9x/ML_project1/blob/master/trung_colab.ipynb\" target=\"_parent\"><img src=\"https://colab.research.google.com/assets/colab-badge.svg\" alt=\"Open In Colab\"/></a>"
      ]
    },
    {
      "cell_type": "markdown",
      "metadata": {
        "id": "nsGZP9Mq8rbd"
      },
      "source": [
        "# CS582 Machine Learning - Mini Project 1\n",
        "\n",
        "Professor: Anthony Sander\n",
        "\n",
        "Team:\n",
        "\n",
        "\n",
        "*   Khoa Nam Nguyen\n",
        "*   Thai Trung Phan\n",
        "\n",
        "Dataset: https://www.kaggle.com/c/house-prices-advanced-regression-techniques/data\n",
        "\n"
      ]
    },
    {
      "cell_type": "markdown",
      "metadata": {
        "id": "cfjurcPy7sHf"
      },
      "source": [
        "# Loading all libraries"
      ]
    },
    {
      "cell_type": "code",
      "metadata": {
        "id": "3rNqDtoM67F2"
      },
      "source": [
        "import pandas as pd"
      ],
      "execution_count": 14,
      "outputs": []
    },
    {
      "cell_type": "markdown",
      "metadata": {
        "id": "ZOscPxlc9vaR"
      },
      "source": [
        "# Loading Dataset\n"
      ]
    },
    {
      "cell_type": "code",
      "metadata": {
        "colab": {
          "base_uri": "https://localhost:8080/"
        },
        "id": "LdYdcPyz6u6X",
        "outputId": "5253b6e9-6a34-4538-db7d-fbacaed58fba"
      },
      "source": [
        "!git clone https://github.com/trungphan9x/ML_project1.git"
      ],
      "execution_count": 15,
      "outputs": [
        {
          "output_type": "stream",
          "text": [
            "fatal: destination path 'ML_project1' already exists and is not an empty directory.\n"
          ],
          "name": "stdout"
        }
      ]
    },
    {
      "cell_type": "code",
      "metadata": {
        "id": "PUFFiAhE69ml"
      },
      "source": [
        "housing = pd.read_csv('/content/ML_project1/dataset/Cali_housing_prices/housing.csv')"
      ],
      "execution_count": 16,
      "outputs": []
    },
    {
      "cell_type": "code",
      "metadata": {
        "id": "_VI0T2AR6_tq",
        "colab": {
          "base_uri": "https://localhost:8080/"
        },
        "outputId": "78f2bb87-65fe-45b3-eda8-82799784b1a9"
      },
      "source": [
        "train_data.info()"
      ],
      "execution_count": 17,
      "outputs": [
        {
          "output_type": "stream",
          "text": [
            "<class 'pandas.core.frame.DataFrame'>\n",
            "RangeIndex: 20640 entries, 0 to 20639\n",
            "Data columns (total 10 columns):\n",
            " #   Column              Non-Null Count  Dtype  \n",
            "---  ------              --------------  -----  \n",
            " 0   longitude           20640 non-null  float64\n",
            " 1   latitude            20640 non-null  float64\n",
            " 2   housing_median_age  20640 non-null  float64\n",
            " 3   total_rooms         20640 non-null  float64\n",
            " 4   total_bedrooms      20433 non-null  float64\n",
            " 5   population          20640 non-null  float64\n",
            " 6   households          20640 non-null  float64\n",
            " 7   median_income       20640 non-null  float64\n",
            " 8   median_house_value  20640 non-null  float64\n",
            " 9   ocean_proximity     20640 non-null  object \n",
            "dtypes: float64(9), object(1)\n",
            "memory usage: 1.6+ MB\n"
          ],
          "name": "stdout"
        }
      ]
    },
    {
      "cell_type": "markdown",
      "metadata": {
        "id": "hisRBUK_WfNZ"
      },
      "source": [
        "# EDA"
      ]
    },
    {
      "cell_type": "markdown",
      "metadata": {
        "id": "PVp6-rgEWuT-"
      },
      "source": [
        ""
      ]
    }
  ]
}
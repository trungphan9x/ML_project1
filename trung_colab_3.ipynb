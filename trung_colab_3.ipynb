{
  "nbformat": 4,
  "nbformat_minor": 0,
  "metadata": {
    "colab": {
      "name": "trung_colab.ipynb",
      "provenance": [],
      "toc_visible": true,
      "include_colab_link": true
    },
    "kernelspec": {
      "name": "python3",
      "display_name": "Python 3"
    },
    "language_info": {
      "name": "python"
    },
    "accelerator": "TPU"
  },
  "cells": [
    {
      "cell_type": "markdown",
      "metadata": {
        "id": "view-in-github",
        "colab_type": "text"
      },
      "source": [
        "<a href=\"https://colab.research.google.com/github/trungphan9x/ML_project1/blob/master/trung_colab_3.ipynb\" target=\"_parent\"><img src=\"https://colab.research.google.com/assets/colab-badge.svg\" alt=\"Open In Colab\"/></a>"
      ]
    },
    {
      "cell_type": "markdown",
      "metadata": {
        "id": "nsGZP9Mq8rbd"
      },
      "source": [
        "# CS582 Machine Learning - Mini Project 1\n",
        "\n",
        "Professor: Anthony Sander\n",
        "\n",
        "Team:\n",
        "\n",
        "\n",
        "*   Khoa Nam Nguyen\n",
        "*   Thai Trung Phan\n",
        "\n",
        "Dataset: https://www.kaggle.com/camnugent/california-housing-prices\n",
        "\n"
      ]
    },
    {
      "cell_type": "markdown",
      "metadata": {
        "id": "cfjurcPy7sHf"
      },
      "source": [
        "# Loading all libraries"
      ]
    },
    {
      "cell_type": "code",
      "metadata": {
        "id": "3rNqDtoM67F2",
        "colab": {
          "base_uri": "https://localhost:8080/"
        },
        "outputId": "846032a7-6729-4753-a647-f62aaba332bf"
      },
      "source": [
        "!pip uninstall scikit-learn -y\n",
        "!pip install scikit-learn==0.24.0\n",
        "!pip install auto-sklearn\n",
        "\n",
        "import pandas as pd\n",
        "import matplotlib.pyplot as plt\n",
        "from sklearn.model_selection import train_test_split\n",
        "import numpy as np\n",
        "from sklearn.model_selection import StratifiedShuffleSplit\n",
        "from pandas.plotting import scatter_matrix\n",
        "from sklearn.impute import SimpleImputer\n",
        "from sklearn.preprocessing import OneHotEncoder, LabelEncoder, MinMaxScaler\n",
        "from sklearn.base import BaseEstimator, TransformerMixin\n",
        "from sklearn.pipeline import Pipeline\n",
        "from sklearn.preprocessing import StandardScaler\n",
        "from sklearn.compose import ColumnTransformer\n",
        "\n",
        "\n",
        "\n",
        "from autosklearn.experimental.askl2 import AutoSklearn2Classifier\n",
        "import autosklearn.classification\n",
        "import sklearn.model_selection\n",
        "import sklearn.datasets\n",
        "import sklearn.metrics"
      ],
      "execution_count": 3,
      "outputs": [
        {
          "output_type": "stream",
          "text": [
            "Found existing installation: scikit-learn 0.24.0\n",
            "Uninstalling scikit-learn-0.24.0:\n",
            "  Successfully uninstalled scikit-learn-0.24.0\n",
            "Collecting scikit-learn==0.24.0\n",
            "  Using cached scikit_learn-0.24.0-cp37-cp37m-manylinux2010_x86_64.whl (22.3 MB)\n",
            "Requirement already satisfied: threadpoolctl>=2.0.0 in /usr/local/lib/python3.7/dist-packages (from scikit-learn==0.24.0) (2.2.0)\n",
            "Requirement already satisfied: numpy>=1.13.3 in /usr/local/lib/python3.7/dist-packages (from scikit-learn==0.24.0) (1.19.5)\n",
            "Requirement already satisfied: scipy>=0.19.1 in /usr/local/lib/python3.7/dist-packages (from scikit-learn==0.24.0) (1.4.1)\n",
            "Requirement already satisfied: joblib>=0.11 in /usr/local/lib/python3.7/dist-packages (from scikit-learn==0.24.0) (1.0.1)\n",
            "Installing collected packages: scikit-learn\n",
            "Successfully installed scikit-learn-0.24.0\n",
            "Requirement already satisfied: auto-sklearn in /usr/local/lib/python3.7/dist-packages (0.12.7)\n",
            "Requirement already satisfied: ConfigSpace<0.5,>=0.4.14 in /usr/local/lib/python3.7/dist-packages (from auto-sklearn) (0.4.19)\n",
            "Requirement already satisfied: numpy>=1.9.0 in /usr/local/lib/python3.7/dist-packages (from auto-sklearn) (1.19.5)\n",
            "Requirement already satisfied: setuptools in /usr/local/lib/python3.7/dist-packages (from auto-sklearn) (57.2.0)\n",
            "Requirement already satisfied: pyrfr<0.9,>=0.8.1 in /usr/local/lib/python3.7/dist-packages (from auto-sklearn) (0.8.2)\n",
            "Requirement already satisfied: liac-arff in /usr/local/lib/python3.7/dist-packages (from auto-sklearn) (2.5.0)\n",
            "Requirement already satisfied: scipy<1.7,>=0.14.1 in /usr/local/lib/python3.7/dist-packages (from auto-sklearn) (1.4.1)\n",
            "Requirement already satisfied: smac<0.14,>=0.13.1 in /usr/local/lib/python3.7/dist-packages (from auto-sklearn) (0.13.1)\n",
            "Requirement already satisfied: pandas>=1.0 in /usr/local/lib/python3.7/dist-packages (from auto-sklearn) (1.1.5)\n",
            "Requirement already satisfied: scikit-learn<0.25.0,>=0.24.0 in /usr/local/lib/python3.7/dist-packages (from auto-sklearn) (0.24.0)\n",
            "Requirement already satisfied: pynisher>=0.6.3 in /usr/local/lib/python3.7/dist-packages (from auto-sklearn) (0.6.4)\n",
            "Requirement already satisfied: distributed>=2.2.0 in /usr/local/lib/python3.7/dist-packages (from auto-sklearn) (2021.7.1)\n",
            "Requirement already satisfied: dask in /usr/local/lib/python3.7/dist-packages (from auto-sklearn) (2021.7.1)\n",
            "Requirement already satisfied: joblib in /usr/local/lib/python3.7/dist-packages (from auto-sklearn) (1.0.1)\n",
            "Requirement already satisfied: pyyaml in /usr/local/lib/python3.7/dist-packages (from auto-sklearn) (3.13)\n",
            "Requirement already satisfied: cython in /usr/local/lib/python3.7/dist-packages (from ConfigSpace<0.5,>=0.4.14->auto-sklearn) (0.29.23)\n",
            "Requirement already satisfied: pyparsing in /usr/local/lib/python3.7/dist-packages (from ConfigSpace<0.5,>=0.4.14->auto-sklearn) (2.4.7)\n",
            "Requirement already satisfied: tornado>=5 in /usr/local/lib/python3.7/dist-packages (from distributed>=2.2.0->auto-sklearn) (5.1.1)\n",
            "Requirement already satisfied: psutil>=5.0 in /usr/local/lib/python3.7/dist-packages (from distributed>=2.2.0->auto-sklearn) (5.4.8)\n",
            "Requirement already satisfied: msgpack>=0.6.0 in /usr/local/lib/python3.7/dist-packages (from distributed>=2.2.0->auto-sklearn) (1.0.2)\n",
            "Requirement already satisfied: click>=6.6 in /usr/local/lib/python3.7/dist-packages (from distributed>=2.2.0->auto-sklearn) (7.1.2)\n",
            "Requirement already satisfied: tblib>=1.6.0 in /usr/local/lib/python3.7/dist-packages (from distributed>=2.2.0->auto-sklearn) (1.7.0)\n",
            "Requirement already satisfied: toolz>=0.8.2 in /usr/local/lib/python3.7/dist-packages (from distributed>=2.2.0->auto-sklearn) (0.11.1)\n",
            "Requirement already satisfied: zict>=0.1.3 in /usr/local/lib/python3.7/dist-packages (from distributed>=2.2.0->auto-sklearn) (2.0.0)\n",
            "Requirement already satisfied: cloudpickle>=1.5.0 in /usr/local/lib/python3.7/dist-packages (from distributed>=2.2.0->auto-sklearn) (1.6.0)\n",
            "Requirement already satisfied: sortedcontainers!=2.0.0,!=2.0.1 in /usr/local/lib/python3.7/dist-packages (from distributed>=2.2.0->auto-sklearn) (2.4.0)\n",
            "Requirement already satisfied: packaging>=20.0 in /usr/local/lib/python3.7/dist-packages (from dask->auto-sklearn) (21.0)\n",
            "Requirement already satisfied: partd>=0.3.10 in /usr/local/lib/python3.7/dist-packages (from dask->auto-sklearn) (1.2.0)\n",
            "Requirement already satisfied: fsspec>=0.6.0 in /usr/local/lib/python3.7/dist-packages (from dask->auto-sklearn) (2021.7.0)\n",
            "Requirement already satisfied: pytz>=2017.2 in /usr/local/lib/python3.7/dist-packages (from pandas>=1.0->auto-sklearn) (2018.9)\n",
            "Requirement already satisfied: python-dateutil>=2.7.3 in /usr/local/lib/python3.7/dist-packages (from pandas>=1.0->auto-sklearn) (2.8.1)\n",
            "Requirement already satisfied: locket in /usr/local/lib/python3.7/dist-packages (from partd>=0.3.10->dask->auto-sklearn) (0.2.1)\n",
            "Requirement already satisfied: six>=1.5 in /usr/local/lib/python3.7/dist-packages (from python-dateutil>=2.7.3->pandas>=1.0->auto-sklearn) (1.15.0)\n",
            "Requirement already satisfied: threadpoolctl>=2.0.0 in /usr/local/lib/python3.7/dist-packages (from scikit-learn<0.25.0,>=0.24.0->auto-sklearn) (2.2.0)\n",
            "Requirement already satisfied: lazy-import in /usr/local/lib/python3.7/dist-packages (from smac<0.14,>=0.13.1->auto-sklearn) (0.2.2)\n",
            "Requirement already satisfied: heapdict in /usr/local/lib/python3.7/dist-packages (from zict>=0.1.3->distributed>=2.2.0->auto-sklearn) (1.0.1)\n"
          ],
          "name": "stdout"
        }
      ]
    },
    {
      "cell_type": "code",
      "metadata": {
        "id": "Sd5tnNAfgx2x",
        "outputId": "ddec68f7-0012-430b-e24a-66b8199e833e",
        "colab": {
          "base_uri": "https://localhost:8080/"
        }
      },
      "source": [
        "!pip install lime"
      ],
      "execution_count": 4,
      "outputs": [
        {
          "output_type": "stream",
          "text": [
            "Requirement already satisfied: lime in /usr/local/lib/python3.7/dist-packages (0.2.0.1)\n",
            "Requirement already satisfied: scipy in /usr/local/lib/python3.7/dist-packages (from lime) (1.4.1)\n",
            "Requirement already satisfied: matplotlib in /usr/local/lib/python3.7/dist-packages (from lime) (3.2.2)\n",
            "Requirement already satisfied: numpy in /usr/local/lib/python3.7/dist-packages (from lime) (1.19.5)\n",
            "Requirement already satisfied: scikit-learn>=0.18 in /usr/local/lib/python3.7/dist-packages (from lime) (0.24.0)\n",
            "Requirement already satisfied: tqdm in /usr/local/lib/python3.7/dist-packages (from lime) (4.41.1)\n",
            "Requirement already satisfied: scikit-image>=0.12 in /usr/local/lib/python3.7/dist-packages (from lime) (0.16.2)\n",
            "Requirement already satisfied: imageio>=2.3.0 in /usr/local/lib/python3.7/dist-packages (from scikit-image>=0.12->lime) (2.4.1)\n",
            "Requirement already satisfied: PyWavelets>=0.4.0 in /usr/local/lib/python3.7/dist-packages (from scikit-image>=0.12->lime) (1.1.1)\n",
            "Requirement already satisfied: pillow>=4.3.0 in /usr/local/lib/python3.7/dist-packages (from scikit-image>=0.12->lime) (7.1.2)\n",
            "Requirement already satisfied: networkx>=2.0 in /usr/local/lib/python3.7/dist-packages (from scikit-image>=0.12->lime) (2.5.1)\n",
            "Requirement already satisfied: cycler>=0.10 in /usr/local/lib/python3.7/dist-packages (from matplotlib->lime) (0.10.0)\n",
            "Requirement already satisfied: pyparsing!=2.0.4,!=2.1.2,!=2.1.6,>=2.0.1 in /usr/local/lib/python3.7/dist-packages (from matplotlib->lime) (2.4.7)\n",
            "Requirement already satisfied: kiwisolver>=1.0.1 in /usr/local/lib/python3.7/dist-packages (from matplotlib->lime) (1.3.1)\n",
            "Requirement already satisfied: python-dateutil>=2.1 in /usr/local/lib/python3.7/dist-packages (from matplotlib->lime) (2.8.1)\n",
            "Requirement already satisfied: six in /usr/local/lib/python3.7/dist-packages (from cycler>=0.10->matplotlib->lime) (1.15.0)\n",
            "Requirement already satisfied: decorator<5,>=4.3 in /usr/local/lib/python3.7/dist-packages (from networkx>=2.0->scikit-image>=0.12->lime) (4.4.2)\n",
            "Requirement already satisfied: threadpoolctl>=2.0.0 in /usr/local/lib/python3.7/dist-packages (from scikit-learn>=0.18->lime) (2.2.0)\n",
            "Requirement already satisfied: joblib>=0.11 in /usr/local/lib/python3.7/dist-packages (from scikit-learn>=0.18->lime) (1.0.1)\n"
          ],
          "name": "stdout"
        }
      ]
    },
    {
      "cell_type": "code",
      "metadata": {
        "id": "ChTnA0RvjFEE",
        "outputId": "11e605cf-2ee6-45b7-cc9e-59e21cb8205b",
        "colab": {
          "base_uri": "https://localhost:8080/"
        }
      },
      "source": [
        "!pip install shap"
      ],
      "execution_count": 5,
      "outputs": [
        {
          "output_type": "stream",
          "text": [
            "Requirement already satisfied: shap in /usr/local/lib/python3.7/dist-packages (0.39.0)\n",
            "Requirement already satisfied: slicer==0.0.7 in /usr/local/lib/python3.7/dist-packages (from shap) (0.0.7)\n",
            "Requirement already satisfied: pandas in /usr/local/lib/python3.7/dist-packages (from shap) (1.1.5)\n",
            "Requirement already satisfied: scikit-learn in /usr/local/lib/python3.7/dist-packages (from shap) (0.24.0)\n",
            "Requirement already satisfied: numba in /usr/local/lib/python3.7/dist-packages (from shap) (0.51.2)\n",
            "Requirement already satisfied: scipy in /usr/local/lib/python3.7/dist-packages (from shap) (1.4.1)\n",
            "Requirement already satisfied: numpy in /usr/local/lib/python3.7/dist-packages (from shap) (1.19.5)\n",
            "Requirement already satisfied: cloudpickle in /usr/local/lib/python3.7/dist-packages (from shap) (1.6.0)\n",
            "Requirement already satisfied: tqdm>4.25.0 in /usr/local/lib/python3.7/dist-packages (from shap) (4.41.1)\n",
            "Requirement already satisfied: llvmlite<0.35,>=0.34.0.dev0 in /usr/local/lib/python3.7/dist-packages (from numba->shap) (0.34.0)\n",
            "Requirement already satisfied: setuptools in /usr/local/lib/python3.7/dist-packages (from numba->shap) (57.2.0)\n",
            "Requirement already satisfied: pytz>=2017.2 in /usr/local/lib/python3.7/dist-packages (from pandas->shap) (2018.9)\n",
            "Requirement already satisfied: python-dateutil>=2.7.3 in /usr/local/lib/python3.7/dist-packages (from pandas->shap) (2.8.1)\n",
            "Requirement already satisfied: six>=1.5 in /usr/local/lib/python3.7/dist-packages (from python-dateutil>=2.7.3->pandas->shap) (1.15.0)\n",
            "Requirement already satisfied: joblib>=0.11 in /usr/local/lib/python3.7/dist-packages (from scikit-learn->shap) (1.0.1)\n",
            "Requirement already satisfied: threadpoolctl>=2.0.0 in /usr/local/lib/python3.7/dist-packages (from scikit-learn->shap) (2.2.0)\n"
          ],
          "name": "stdout"
        }
      ]
    },
    {
      "cell_type": "markdown",
      "metadata": {
        "id": "ZOscPxlc9vaR"
      },
      "source": [
        "# STEP 1: LOADING DATASET"
      ]
    },
    {
      "cell_type": "markdown",
      "metadata": {
        "id": "RjCH7JJOeS0k"
      },
      "source": [
        "Min of 500 samples , must include at least one categorical feature"
      ]
    },
    {
      "cell_type": "code",
      "metadata": {
        "id": "LdYdcPyz6u6X",
        "outputId": "2969e31f-8e56-4003-8827-faf506fdfa88",
        "colab": {
          "base_uri": "https://localhost:8080/"
        }
      },
      "source": [
        "!git clone https://github.com/trungphan9x/ML_project1.git"
      ],
      "execution_count": 23,
      "outputs": [
        {
          "output_type": "stream",
          "text": [
            "fatal: destination path 'ML_project1' already exists and is not an empty directory.\n"
          ],
          "name": "stdout"
        }
      ]
    },
    {
      "cell_type": "code",
      "metadata": {
        "id": "PUFFiAhE69ml"
      },
      "source": [
        "housing = pd.read_csv('/content/ML_project1/dataset/Cali_housing_prices/housing.csv')"
      ],
      "execution_count": 24,
      "outputs": []
    },
    {
      "cell_type": "markdown",
      "metadata": {
        "id": "hisRBUK_WfNZ"
      },
      "source": [
        "# STEP 2: EDA"
      ]
    },
    {
      "cell_type": "markdown",
      "metadata": {
        "id": "zgCb7o4YeH6Z"
      },
      "source": [
        "# Identify if there are any missing values"
      ]
    },
    {
      "cell_type": "markdown",
      "metadata": {
        "id": "_NZnCISpXUU9"
      },
      "source": [
        "\n",
        "> There are 20,640 instances in the dataset. Notice that the total_bed rooms attribute has only 20,433 nonnull values, meaning that 207 districts are missing this feature. We will need to take care of this.\n",
        "\n",
        "\n",
        "\n",
        "\n"
      ]
    },
    {
      "cell_type": "code",
      "metadata": {
        "id": "_VI0T2AR6_tq"
      },
      "source": [
        "housing.info()"
      ],
      "execution_count": null,
      "outputs": []
    },
    {
      "cell_type": "markdown",
      "metadata": {
        "id": "9C5NUrDjes1g"
      },
      "source": [
        "# Identify categorical feature"
      ]
    },
    {
      "cell_type": "markdown",
      "metadata": {
        "id": "Tyt6rJcga_II"
      },
      "source": [
        "\n",
        "\n",
        "> All attributes are numerical, except the ocean_proximity field. When you looked at the top five rows, you probably noticed that the values in the ocean_proximity column were repetitive, which means that it is probably a categorical attribute "
      ]
    },
    {
      "cell_type": "code",
      "metadata": {
        "id": "KYD1JDnOYbM8"
      },
      "source": [
        "housing.head()"
      ],
      "execution_count": null,
      "outputs": []
    },
    {
      "cell_type": "markdown",
      "metadata": {
        "id": "UIobhlV7cBx8"
      },
      "source": [
        "\n",
        "\n",
        "> Check what categories exist and how many districts belong to each category\n",
        "\n"
      ]
    },
    {
      "cell_type": "code",
      "metadata": {
        "id": "SZZUcFDGcIYP"
      },
      "source": [
        "housing['ocean_proximity'].value_counts()"
      ],
      "execution_count": null,
      "outputs": []
    },
    {
      "cell_type": "markdown",
      "metadata": {
        "id": "6znj_qdue5xJ"
      },
      "source": [
        "# Summary of the numerical atributes"
      ]
    },
    {
      "cell_type": "code",
      "metadata": {
        "id": "JLDLMOLDc1rs"
      },
      "source": [
        "housing.describe()"
      ],
      "execution_count": null,
      "outputs": []
    },
    {
      "cell_type": "markdown",
      "metadata": {
        "id": "XA7hb9V-e-5v"
      },
      "source": [
        "# Ploting a histogram of each numerical atribute"
      ]
    },
    {
      "cell_type": "code",
      "metadata": {
        "id": "Nbo7ibxVdLN1"
      },
      "source": [
        "housing.hist(bins=50, figsize=(20,15)) \n",
        "plt.show()\n"
      ],
      "execution_count": null,
      "outputs": []
    },
    {
      "cell_type": "markdown",
      "metadata": {
        "id": "IsMT3sAbddoa"
      },
      "source": [
        "\n",
        "> There are a few things you might notice in these histograms:\n",
        "\n",
        "\n",
        "1.   The median house value is our target attribute (our labels).\n",
        "2.   The median income attribute: the numbers represent roughly tens of thousands of dollars (e.g., 3 actually means about $30,000).\n",
        "3.   These attributes have very different scales.\n",
        "4.   Finally, many histograms are tail-heavy: they extend much farther to the right of the median than to the left. This may make it a bit harder for some Machine Learning algorithms to detect patterns. We will try transforming these attributes later on to have more bell-shaped distributions.\n",
        "\n",
        "\n",
        "\n",
        "\n"
      ]
    },
    {
      "cell_type": "markdown",
      "metadata": {
        "id": "Lstlm84qoh6w"
      },
      "source": [
        "# Visualizing Geographical Data"
      ]
    },
    {
      "cell_type": "markdown",
      "metadata": {
        "id": "lbMDPn5_o4_x"
      },
      "source": [
        "Create a scatterplot of all districts to visualize the data"
      ]
    },
    {
      "cell_type": "code",
      "metadata": {
        "id": "0GVMH9pZo7Uc"
      },
      "source": [
        "housing.plot(kind=\"scatter\", x=\"longitude\", y=\"latitude\")"
      ],
      "execution_count": null,
      "outputs": []
    },
    {
      "cell_type": "markdown",
      "metadata": {
        "id": "D-_GKr5CpDm1"
      },
      "source": [
        "This looks like California actually. Setting the alpha option to 0.1 makes it much easier to visualize the places where there is a high density of data points:"
      ]
    },
    {
      "cell_type": "code",
      "metadata": {
        "id": "wM2fXgbhpKtX"
      },
      "source": [
        "housing.plot(kind=\"scatter\", x=\"longitude\", y=\"latitude\", alpha=0.1)"
      ],
      "execution_count": null,
      "outputs": []
    },
    {
      "cell_type": "markdown",
      "metadata": {
        "id": "jPxXMxOBphz9"
      },
      "source": [
        "Now that’s much better: you can clearly see the high-density areas, namely the Bay Area and around Los Angeles and San Diego, plus a long line of fairly high density in the Central Valley, in particular around Sacramento and Fresno.\n",
        "\n",
        "\n",
        "Now let’s look at the housing prices (Figure 2-13). The radius of each circle represents the district’s population (option s), and the color represents the price (option c). We will use a predefined color map (option cmap) called jet, which ranges from blue (low values) to red (high prices):"
      ]
    },
    {
      "cell_type": "code",
      "metadata": {
        "id": "7PODKBOIpqJV"
      },
      "source": [
        "housing.plot(kind=\"scatter\", x=\"longitude\", y=\"latitude\", alpha=0.4,\n",
        "             s=housing[\"population\"]/100, label=\"population\", figsize=(10,7),\n",
        "             c=\"median_house_value\", cmap=plt.get_cmap(\"jet\"), colorbar=True,\n",
        "             sharex=False)\n",
        "plt.legend()"
      ],
      "execution_count": null,
      "outputs": []
    },
    {
      "cell_type": "markdown",
      "metadata": {
        "id": "WfQshYfxqZMG"
      },
      "source": [
        "This image tells you that the housing prices are very much related to the location (e.g., close to the ocean) and to the population density. A clustering algorithm should be useful for detecting the main cluster and for adding new features that measure the proximity to the cluster centers. The ocean proximity attribute may be useful as well, although in Northern California the housing prices in coastal districts are not too high, so it is not a simple rule."
      ]
    },
    {
      "cell_type": "markdown",
      "metadata": {
        "id": "2qpOmlbuqmFP"
      },
      "source": [
        "# Correlations"
      ]
    },
    {
      "cell_type": "code",
      "metadata": {
        "id": "2J57APKiq_tU"
      },
      "source": [
        "corr_matrix = housing.corr()"
      ],
      "execution_count": null,
      "outputs": []
    },
    {
      "cell_type": "markdown",
      "metadata": {
        "id": "8G71C-t5rEby"
      },
      "source": [
        "Now let’s look at how much each attribute correlates with the median house value:"
      ]
    },
    {
      "cell_type": "code",
      "metadata": {
        "id": "TcctVTaSrHDq"
      },
      "source": [
        "corr_matrix[\"median_house_value\"].sort_values(ascending=False)"
      ],
      "execution_count": null,
      "outputs": []
    },
    {
      "cell_type": "markdown",
      "metadata": {
        "id": "W0_UHOLqrWz7"
      },
      "source": [
        "When it is close to 1, it means that there is a strong positive correlation; for example, the median house value tends to go up when the median income goes up\n",
        "\n",
        "When the coefficient is close to –1, it means that there is a strong negative correlation; you can see a small negative correlation between the latitude and the median house value (i.e., prices have a slight tendency to go down when you go north)."
      ]
    },
    {
      "cell_type": "markdown",
      "metadata": {
        "id": "zatdu6IUr1oZ"
      },
      "source": [
        "Another way to check for correlation between attributes is to use the pandas scatter_matrix() function"
      ]
    },
    {
      "cell_type": "code",
      "metadata": {
        "id": "iJ8Nu9zHrqR8"
      },
      "source": [
        "attributes = [\"median_house_value\", \"median_income\", \"total_rooms\",\"housing_median_age\"]\n",
        "scatter_matrix(housing[attributes], figsize=(12, 8))"
      ],
      "execution_count": null,
      "outputs": []
    },
    {
      "cell_type": "code",
      "metadata": {
        "id": "bHmw9NlqsITQ"
      },
      "source": [
        " housing.plot(kind=\"scatter\", x=\"median_income\", y=\"median_house_value\", alpha=0.1)"
      ],
      "execution_count": null,
      "outputs": []
    },
    {
      "cell_type": "markdown",
      "metadata": {
        "id": "DOzel650sTyA"
      },
      "source": [
        "# Atribute Combination"
      ]
    },
    {
      "cell_type": "code",
      "metadata": {
        "id": "9y7tTZzbsYAo"
      },
      "source": [
        "housing[\"rooms_per_household\"] = housing[\"total_rooms\"]/housing[\"households\"]\n",
        "housing[\"bedrooms_per_room\"] = housing[\"total_bedrooms\"]/housing[\"total_rooms\"]\n",
        "housing[\"population_per_household\"]=housing[\"population\"]/housing[\"households\"]"
      ],
      "execution_count": 25,
      "outputs": []
    },
    {
      "cell_type": "code",
      "metadata": {
        "id": "gWstL_8msn8c"
      },
      "source": [
        "corr_matrix = housing.corr()"
      ],
      "execution_count": 26,
      "outputs": []
    },
    {
      "cell_type": "code",
      "metadata": {
        "id": "UlN28chlstD0",
        "outputId": "2932e8dc-aeb2-487b-e542-03677845778b",
        "colab": {
          "base_uri": "https://localhost:8080/"
        }
      },
      "source": [
        "corr_matrix[\"median_house_value\"].sort_values(ascending=False)"
      ],
      "execution_count": 27,
      "outputs": [
        {
          "output_type": "execute_result",
          "data": {
            "text/plain": [
              "median_house_value          1.000000\n",
              "median_income               0.688075\n",
              "rooms_per_household         0.151948\n",
              "total_rooms                 0.134153\n",
              "housing_median_age          0.105623\n",
              "households                  0.065843\n",
              "total_bedrooms              0.049686\n",
              "population_per_household   -0.023737\n",
              "population                 -0.024650\n",
              "longitude                  -0.045967\n",
              "latitude                   -0.144160\n",
              "bedrooms_per_room          -0.255880\n",
              "Name: median_house_value, dtype: float64"
            ]
          },
          "metadata": {
            "tags": []
          },
          "execution_count": 27
        }
      ]
    },
    {
      "cell_type": "markdown",
      "metadata": {
        "id": "XROFyk_3s4ey"
      },
      "source": [
        "The new bedrooms_per_room attribute is much more correlated with the median house value than the total number of rooms or bedrooms.\n",
        "\n",
        "Apparently houses with a lower bedroom/room ratio tend to be more expensive. \n",
        "\n",
        "The larger the houses, the more expensive they are."
      ]
    },
    {
      "cell_type": "markdown",
      "metadata": {
        "id": "2_MWiyD-hnz7"
      },
      "source": [
        "# STEP 3: DATA PREPARATION"
      ]
    },
    {
      "cell_type": "markdown",
      "metadata": {
        "id": "4idg6m5F_Psw"
      },
      "source": [
        "# Handle the categorical columns"
      ]
    },
    {
      "cell_type": "code",
      "metadata": {
        "id": "9YDRU0x-_QV0"
      },
      "source": [
        "#le = LabelEncoder()\n",
        "#housing['ocean_proximity'] = le.fit_transform(housing['ocean_proximity'])\n",
        "housing = pd.get_dummies(housing, columns=['ocean_proximity'])\n"
      ],
      "execution_count": 28,
      "outputs": []
    },
    {
      "cell_type": "code",
      "metadata": {
        "id": "by4JQU5mfKKC",
        "outputId": "3e11f284-a0a0-4ab9-b33a-07f7b17bb44e",
        "colab": {
          "base_uri": "https://localhost:8080/",
          "height": 456
        }
      },
      "source": [
        "housing"
      ],
      "execution_count": 12,
      "outputs": [
        {
          "output_type": "execute_result",
          "data": {
            "text/html": [
              "<div>\n",
              "<style scoped>\n",
              "    .dataframe tbody tr th:only-of-type {\n",
              "        vertical-align: middle;\n",
              "    }\n",
              "\n",
              "    .dataframe tbody tr th {\n",
              "        vertical-align: top;\n",
              "    }\n",
              "\n",
              "    .dataframe thead th {\n",
              "        text-align: right;\n",
              "    }\n",
              "</style>\n",
              "<table border=\"1\" class=\"dataframe\">\n",
              "  <thead>\n",
              "    <tr style=\"text-align: right;\">\n",
              "      <th></th>\n",
              "      <th>longitude</th>\n",
              "      <th>latitude</th>\n",
              "      <th>housing_median_age</th>\n",
              "      <th>total_rooms</th>\n",
              "      <th>total_bedrooms</th>\n",
              "      <th>population</th>\n",
              "      <th>households</th>\n",
              "      <th>median_income</th>\n",
              "      <th>median_house_value</th>\n",
              "      <th>rooms_per_household</th>\n",
              "      <th>bedrooms_per_room</th>\n",
              "      <th>population_per_household</th>\n",
              "      <th>ocean_proximity_&lt;1H OCEAN</th>\n",
              "      <th>ocean_proximity_INLAND</th>\n",
              "      <th>ocean_proximity_ISLAND</th>\n",
              "      <th>ocean_proximity_NEAR BAY</th>\n",
              "      <th>ocean_proximity_NEAR OCEAN</th>\n",
              "    </tr>\n",
              "  </thead>\n",
              "  <tbody>\n",
              "    <tr>\n",
              "      <th>0</th>\n",
              "      <td>-122.23</td>\n",
              "      <td>37.88</td>\n",
              "      <td>41.0</td>\n",
              "      <td>880.0</td>\n",
              "      <td>129.0</td>\n",
              "      <td>322.0</td>\n",
              "      <td>126.0</td>\n",
              "      <td>8.3252</td>\n",
              "      <td>452600.0</td>\n",
              "      <td>6.984127</td>\n",
              "      <td>0.146591</td>\n",
              "      <td>2.555556</td>\n",
              "      <td>0</td>\n",
              "      <td>0</td>\n",
              "      <td>0</td>\n",
              "      <td>1</td>\n",
              "      <td>0</td>\n",
              "    </tr>\n",
              "    <tr>\n",
              "      <th>1</th>\n",
              "      <td>-122.22</td>\n",
              "      <td>37.86</td>\n",
              "      <td>21.0</td>\n",
              "      <td>7099.0</td>\n",
              "      <td>1106.0</td>\n",
              "      <td>2401.0</td>\n",
              "      <td>1138.0</td>\n",
              "      <td>8.3014</td>\n",
              "      <td>358500.0</td>\n",
              "      <td>6.238137</td>\n",
              "      <td>0.155797</td>\n",
              "      <td>2.109842</td>\n",
              "      <td>0</td>\n",
              "      <td>0</td>\n",
              "      <td>0</td>\n",
              "      <td>1</td>\n",
              "      <td>0</td>\n",
              "    </tr>\n",
              "    <tr>\n",
              "      <th>2</th>\n",
              "      <td>-122.24</td>\n",
              "      <td>37.85</td>\n",
              "      <td>52.0</td>\n",
              "      <td>1467.0</td>\n",
              "      <td>190.0</td>\n",
              "      <td>496.0</td>\n",
              "      <td>177.0</td>\n",
              "      <td>7.2574</td>\n",
              "      <td>352100.0</td>\n",
              "      <td>8.288136</td>\n",
              "      <td>0.129516</td>\n",
              "      <td>2.802260</td>\n",
              "      <td>0</td>\n",
              "      <td>0</td>\n",
              "      <td>0</td>\n",
              "      <td>1</td>\n",
              "      <td>0</td>\n",
              "    </tr>\n",
              "    <tr>\n",
              "      <th>3</th>\n",
              "      <td>-122.25</td>\n",
              "      <td>37.85</td>\n",
              "      <td>52.0</td>\n",
              "      <td>1274.0</td>\n",
              "      <td>235.0</td>\n",
              "      <td>558.0</td>\n",
              "      <td>219.0</td>\n",
              "      <td>5.6431</td>\n",
              "      <td>341300.0</td>\n",
              "      <td>5.817352</td>\n",
              "      <td>0.184458</td>\n",
              "      <td>2.547945</td>\n",
              "      <td>0</td>\n",
              "      <td>0</td>\n",
              "      <td>0</td>\n",
              "      <td>1</td>\n",
              "      <td>0</td>\n",
              "    </tr>\n",
              "    <tr>\n",
              "      <th>4</th>\n",
              "      <td>-122.25</td>\n",
              "      <td>37.85</td>\n",
              "      <td>52.0</td>\n",
              "      <td>1627.0</td>\n",
              "      <td>280.0</td>\n",
              "      <td>565.0</td>\n",
              "      <td>259.0</td>\n",
              "      <td>3.8462</td>\n",
              "      <td>342200.0</td>\n",
              "      <td>6.281853</td>\n",
              "      <td>0.172096</td>\n",
              "      <td>2.181467</td>\n",
              "      <td>0</td>\n",
              "      <td>0</td>\n",
              "      <td>0</td>\n",
              "      <td>1</td>\n",
              "      <td>0</td>\n",
              "    </tr>\n",
              "    <tr>\n",
              "      <th>...</th>\n",
              "      <td>...</td>\n",
              "      <td>...</td>\n",
              "      <td>...</td>\n",
              "      <td>...</td>\n",
              "      <td>...</td>\n",
              "      <td>...</td>\n",
              "      <td>...</td>\n",
              "      <td>...</td>\n",
              "      <td>...</td>\n",
              "      <td>...</td>\n",
              "      <td>...</td>\n",
              "      <td>...</td>\n",
              "      <td>...</td>\n",
              "      <td>...</td>\n",
              "      <td>...</td>\n",
              "      <td>...</td>\n",
              "      <td>...</td>\n",
              "    </tr>\n",
              "    <tr>\n",
              "      <th>20635</th>\n",
              "      <td>-121.09</td>\n",
              "      <td>39.48</td>\n",
              "      <td>25.0</td>\n",
              "      <td>1665.0</td>\n",
              "      <td>374.0</td>\n",
              "      <td>845.0</td>\n",
              "      <td>330.0</td>\n",
              "      <td>1.5603</td>\n",
              "      <td>78100.0</td>\n",
              "      <td>5.045455</td>\n",
              "      <td>0.224625</td>\n",
              "      <td>2.560606</td>\n",
              "      <td>0</td>\n",
              "      <td>1</td>\n",
              "      <td>0</td>\n",
              "      <td>0</td>\n",
              "      <td>0</td>\n",
              "    </tr>\n",
              "    <tr>\n",
              "      <th>20636</th>\n",
              "      <td>-121.21</td>\n",
              "      <td>39.49</td>\n",
              "      <td>18.0</td>\n",
              "      <td>697.0</td>\n",
              "      <td>150.0</td>\n",
              "      <td>356.0</td>\n",
              "      <td>114.0</td>\n",
              "      <td>2.5568</td>\n",
              "      <td>77100.0</td>\n",
              "      <td>6.114035</td>\n",
              "      <td>0.215208</td>\n",
              "      <td>3.122807</td>\n",
              "      <td>0</td>\n",
              "      <td>1</td>\n",
              "      <td>0</td>\n",
              "      <td>0</td>\n",
              "      <td>0</td>\n",
              "    </tr>\n",
              "    <tr>\n",
              "      <th>20637</th>\n",
              "      <td>-121.22</td>\n",
              "      <td>39.43</td>\n",
              "      <td>17.0</td>\n",
              "      <td>2254.0</td>\n",
              "      <td>485.0</td>\n",
              "      <td>1007.0</td>\n",
              "      <td>433.0</td>\n",
              "      <td>1.7000</td>\n",
              "      <td>92300.0</td>\n",
              "      <td>5.205543</td>\n",
              "      <td>0.215173</td>\n",
              "      <td>2.325635</td>\n",
              "      <td>0</td>\n",
              "      <td>1</td>\n",
              "      <td>0</td>\n",
              "      <td>0</td>\n",
              "      <td>0</td>\n",
              "    </tr>\n",
              "    <tr>\n",
              "      <th>20638</th>\n",
              "      <td>-121.32</td>\n",
              "      <td>39.43</td>\n",
              "      <td>18.0</td>\n",
              "      <td>1860.0</td>\n",
              "      <td>409.0</td>\n",
              "      <td>741.0</td>\n",
              "      <td>349.0</td>\n",
              "      <td>1.8672</td>\n",
              "      <td>84700.0</td>\n",
              "      <td>5.329513</td>\n",
              "      <td>0.219892</td>\n",
              "      <td>2.123209</td>\n",
              "      <td>0</td>\n",
              "      <td>1</td>\n",
              "      <td>0</td>\n",
              "      <td>0</td>\n",
              "      <td>0</td>\n",
              "    </tr>\n",
              "    <tr>\n",
              "      <th>20639</th>\n",
              "      <td>-121.24</td>\n",
              "      <td>39.37</td>\n",
              "      <td>16.0</td>\n",
              "      <td>2785.0</td>\n",
              "      <td>616.0</td>\n",
              "      <td>1387.0</td>\n",
              "      <td>530.0</td>\n",
              "      <td>2.3886</td>\n",
              "      <td>89400.0</td>\n",
              "      <td>5.254717</td>\n",
              "      <td>0.221185</td>\n",
              "      <td>2.616981</td>\n",
              "      <td>0</td>\n",
              "      <td>1</td>\n",
              "      <td>0</td>\n",
              "      <td>0</td>\n",
              "      <td>0</td>\n",
              "    </tr>\n",
              "  </tbody>\n",
              "</table>\n",
              "<p>20640 rows × 17 columns</p>\n",
              "</div>"
            ],
            "text/plain": [
              "       longitude  ...  ocean_proximity_NEAR OCEAN\n",
              "0        -122.23  ...                           0\n",
              "1        -122.22  ...                           0\n",
              "2        -122.24  ...                           0\n",
              "3        -122.25  ...                           0\n",
              "4        -122.25  ...                           0\n",
              "...          ...  ...                         ...\n",
              "20635    -121.09  ...                           0\n",
              "20636    -121.21  ...                           0\n",
              "20637    -121.22  ...                           0\n",
              "20638    -121.32  ...                           0\n",
              "20639    -121.24  ...                           0\n",
              "\n",
              "[20640 rows x 17 columns]"
            ]
          },
          "metadata": {
            "tags": []
          },
          "execution_count": 12
        }
      ]
    },
    {
      "cell_type": "markdown",
      "metadata": {
        "id": "zbvSxJaIybFc"
      },
      "source": [
        "#  Processing missing values"
      ]
    },
    {
      "cell_type": "markdown",
      "metadata": {
        "id": "v7PbP_fQzVmY"
      },
      "source": [
        "Create a SimpleImputer instance, specifying that you want to replace each attribute’s missing values with the median of that attribute:"
      ]
    },
    {
      "cell_type": "code",
      "metadata": {
        "id": "OV8AyFDxzYvv"
      },
      "source": [
        "imputer = SimpleImputer(strategy=\"median\")"
      ],
      "execution_count": 29,
      "outputs": []
    },
    {
      "cell_type": "markdown",
      "metadata": {
        "id": "MeiPRPPVzs2n"
      },
      "source": [
        "Fit the imputer instance to the training data using the fit() method:"
      ]
    },
    {
      "cell_type": "code",
      "metadata": {
        "id": "RQqiBPygzvM5",
        "outputId": "b7cfc93a-3037-496c-c1ee-480fa67757c5",
        "colab": {
          "base_uri": "https://localhost:8080/"
        }
      },
      "source": [
        "imputer.fit(housing)"
      ],
      "execution_count": 30,
      "outputs": [
        {
          "output_type": "execute_result",
          "data": {
            "text/plain": [
              "SimpleImputer(strategy='median')"
            ]
          },
          "metadata": {
            "tags": []
          },
          "execution_count": 30
        }
      ]
    },
    {
      "cell_type": "code",
      "metadata": {
        "id": "1UFyARGR0Myw",
        "outputId": "20701c08-0532-45ab-a7e4-777d4ad30831",
        "colab": {
          "base_uri": "https://localhost:8080/"
        }
      },
      "source": [
        "imputer.statistics_"
      ],
      "execution_count": 31,
      "outputs": [
        {
          "output_type": "execute_result",
          "data": {
            "text/plain": [
              "array([-1.18490000e+02,  3.42600000e+01,  2.90000000e+01,  2.12700000e+03,\n",
              "        4.35000000e+02,  1.16600000e+03,  4.09000000e+02,  3.53480000e+00,\n",
              "        1.79700000e+05,  5.22912879e+00,  2.03162434e-01,  2.81811565e+00,\n",
              "        0.00000000e+00,  0.00000000e+00,  0.00000000e+00,  0.00000000e+00,\n",
              "        0.00000000e+00])"
            ]
          },
          "metadata": {
            "tags": []
          },
          "execution_count": 31
        }
      ]
    },
    {
      "cell_type": "markdown",
      "metadata": {
        "id": "4eq98v310uty"
      },
      "source": [
        "Use this “trained” imputer to transform the training set by replacing missing values with the learned medians:"
      ]
    },
    {
      "cell_type": "code",
      "metadata": {
        "id": "rb7Aj0hK0yOS"
      },
      "source": [
        "X = imputer.transform(housing)"
      ],
      "execution_count": 32,
      "outputs": []
    },
    {
      "cell_type": "markdown",
      "metadata": {
        "id": "cCG8uCkD04ej"
      },
      "source": [
        "The result is a plain NumPy array containing the transformed features. If you want to put it back into a pandas DataFrame, it’s simple:"
      ]
    },
    {
      "cell_type": "code",
      "metadata": {
        "id": "oxkKOb5X07Ws",
        "outputId": "d2a4584d-8e8e-42dd-f956-3c6a493cbc59",
        "colab": {
          "base_uri": "https://localhost:8080/",
          "height": 0
        }
      },
      "source": [
        "housing = pd.DataFrame(X, columns=housing.columns, index=housing.index)\n",
        "housing"
      ],
      "execution_count": 33,
      "outputs": [
        {
          "output_type": "execute_result",
          "data": {
            "text/html": [
              "<div>\n",
              "<style scoped>\n",
              "    .dataframe tbody tr th:only-of-type {\n",
              "        vertical-align: middle;\n",
              "    }\n",
              "\n",
              "    .dataframe tbody tr th {\n",
              "        vertical-align: top;\n",
              "    }\n",
              "\n",
              "    .dataframe thead th {\n",
              "        text-align: right;\n",
              "    }\n",
              "</style>\n",
              "<table border=\"1\" class=\"dataframe\">\n",
              "  <thead>\n",
              "    <tr style=\"text-align: right;\">\n",
              "      <th></th>\n",
              "      <th>longitude</th>\n",
              "      <th>latitude</th>\n",
              "      <th>housing_median_age</th>\n",
              "      <th>total_rooms</th>\n",
              "      <th>total_bedrooms</th>\n",
              "      <th>population</th>\n",
              "      <th>households</th>\n",
              "      <th>median_income</th>\n",
              "      <th>median_house_value</th>\n",
              "      <th>rooms_per_household</th>\n",
              "      <th>bedrooms_per_room</th>\n",
              "      <th>population_per_household</th>\n",
              "      <th>ocean_proximity_&lt;1H OCEAN</th>\n",
              "      <th>ocean_proximity_INLAND</th>\n",
              "      <th>ocean_proximity_ISLAND</th>\n",
              "      <th>ocean_proximity_NEAR BAY</th>\n",
              "      <th>ocean_proximity_NEAR OCEAN</th>\n",
              "    </tr>\n",
              "  </thead>\n",
              "  <tbody>\n",
              "    <tr>\n",
              "      <th>0</th>\n",
              "      <td>-122.23</td>\n",
              "      <td>37.88</td>\n",
              "      <td>41.0</td>\n",
              "      <td>880.0</td>\n",
              "      <td>129.0</td>\n",
              "      <td>322.0</td>\n",
              "      <td>126.0</td>\n",
              "      <td>8.3252</td>\n",
              "      <td>452600.0</td>\n",
              "      <td>6.984127</td>\n",
              "      <td>0.146591</td>\n",
              "      <td>2.555556</td>\n",
              "      <td>0.0</td>\n",
              "      <td>0.0</td>\n",
              "      <td>0.0</td>\n",
              "      <td>1.0</td>\n",
              "      <td>0.0</td>\n",
              "    </tr>\n",
              "    <tr>\n",
              "      <th>1</th>\n",
              "      <td>-122.22</td>\n",
              "      <td>37.86</td>\n",
              "      <td>21.0</td>\n",
              "      <td>7099.0</td>\n",
              "      <td>1106.0</td>\n",
              "      <td>2401.0</td>\n",
              "      <td>1138.0</td>\n",
              "      <td>8.3014</td>\n",
              "      <td>358500.0</td>\n",
              "      <td>6.238137</td>\n",
              "      <td>0.155797</td>\n",
              "      <td>2.109842</td>\n",
              "      <td>0.0</td>\n",
              "      <td>0.0</td>\n",
              "      <td>0.0</td>\n",
              "      <td>1.0</td>\n",
              "      <td>0.0</td>\n",
              "    </tr>\n",
              "    <tr>\n",
              "      <th>2</th>\n",
              "      <td>-122.24</td>\n",
              "      <td>37.85</td>\n",
              "      <td>52.0</td>\n",
              "      <td>1467.0</td>\n",
              "      <td>190.0</td>\n",
              "      <td>496.0</td>\n",
              "      <td>177.0</td>\n",
              "      <td>7.2574</td>\n",
              "      <td>352100.0</td>\n",
              "      <td>8.288136</td>\n",
              "      <td>0.129516</td>\n",
              "      <td>2.802260</td>\n",
              "      <td>0.0</td>\n",
              "      <td>0.0</td>\n",
              "      <td>0.0</td>\n",
              "      <td>1.0</td>\n",
              "      <td>0.0</td>\n",
              "    </tr>\n",
              "    <tr>\n",
              "      <th>3</th>\n",
              "      <td>-122.25</td>\n",
              "      <td>37.85</td>\n",
              "      <td>52.0</td>\n",
              "      <td>1274.0</td>\n",
              "      <td>235.0</td>\n",
              "      <td>558.0</td>\n",
              "      <td>219.0</td>\n",
              "      <td>5.6431</td>\n",
              "      <td>341300.0</td>\n",
              "      <td>5.817352</td>\n",
              "      <td>0.184458</td>\n",
              "      <td>2.547945</td>\n",
              "      <td>0.0</td>\n",
              "      <td>0.0</td>\n",
              "      <td>0.0</td>\n",
              "      <td>1.0</td>\n",
              "      <td>0.0</td>\n",
              "    </tr>\n",
              "    <tr>\n",
              "      <th>4</th>\n",
              "      <td>-122.25</td>\n",
              "      <td>37.85</td>\n",
              "      <td>52.0</td>\n",
              "      <td>1627.0</td>\n",
              "      <td>280.0</td>\n",
              "      <td>565.0</td>\n",
              "      <td>259.0</td>\n",
              "      <td>3.8462</td>\n",
              "      <td>342200.0</td>\n",
              "      <td>6.281853</td>\n",
              "      <td>0.172096</td>\n",
              "      <td>2.181467</td>\n",
              "      <td>0.0</td>\n",
              "      <td>0.0</td>\n",
              "      <td>0.0</td>\n",
              "      <td>1.0</td>\n",
              "      <td>0.0</td>\n",
              "    </tr>\n",
              "    <tr>\n",
              "      <th>...</th>\n",
              "      <td>...</td>\n",
              "      <td>...</td>\n",
              "      <td>...</td>\n",
              "      <td>...</td>\n",
              "      <td>...</td>\n",
              "      <td>...</td>\n",
              "      <td>...</td>\n",
              "      <td>...</td>\n",
              "      <td>...</td>\n",
              "      <td>...</td>\n",
              "      <td>...</td>\n",
              "      <td>...</td>\n",
              "      <td>...</td>\n",
              "      <td>...</td>\n",
              "      <td>...</td>\n",
              "      <td>...</td>\n",
              "      <td>...</td>\n",
              "    </tr>\n",
              "    <tr>\n",
              "      <th>20635</th>\n",
              "      <td>-121.09</td>\n",
              "      <td>39.48</td>\n",
              "      <td>25.0</td>\n",
              "      <td>1665.0</td>\n",
              "      <td>374.0</td>\n",
              "      <td>845.0</td>\n",
              "      <td>330.0</td>\n",
              "      <td>1.5603</td>\n",
              "      <td>78100.0</td>\n",
              "      <td>5.045455</td>\n",
              "      <td>0.224625</td>\n",
              "      <td>2.560606</td>\n",
              "      <td>0.0</td>\n",
              "      <td>1.0</td>\n",
              "      <td>0.0</td>\n",
              "      <td>0.0</td>\n",
              "      <td>0.0</td>\n",
              "    </tr>\n",
              "    <tr>\n",
              "      <th>20636</th>\n",
              "      <td>-121.21</td>\n",
              "      <td>39.49</td>\n",
              "      <td>18.0</td>\n",
              "      <td>697.0</td>\n",
              "      <td>150.0</td>\n",
              "      <td>356.0</td>\n",
              "      <td>114.0</td>\n",
              "      <td>2.5568</td>\n",
              "      <td>77100.0</td>\n",
              "      <td>6.114035</td>\n",
              "      <td>0.215208</td>\n",
              "      <td>3.122807</td>\n",
              "      <td>0.0</td>\n",
              "      <td>1.0</td>\n",
              "      <td>0.0</td>\n",
              "      <td>0.0</td>\n",
              "      <td>0.0</td>\n",
              "    </tr>\n",
              "    <tr>\n",
              "      <th>20637</th>\n",
              "      <td>-121.22</td>\n",
              "      <td>39.43</td>\n",
              "      <td>17.0</td>\n",
              "      <td>2254.0</td>\n",
              "      <td>485.0</td>\n",
              "      <td>1007.0</td>\n",
              "      <td>433.0</td>\n",
              "      <td>1.7000</td>\n",
              "      <td>92300.0</td>\n",
              "      <td>5.205543</td>\n",
              "      <td>0.215173</td>\n",
              "      <td>2.325635</td>\n",
              "      <td>0.0</td>\n",
              "      <td>1.0</td>\n",
              "      <td>0.0</td>\n",
              "      <td>0.0</td>\n",
              "      <td>0.0</td>\n",
              "    </tr>\n",
              "    <tr>\n",
              "      <th>20638</th>\n",
              "      <td>-121.32</td>\n",
              "      <td>39.43</td>\n",
              "      <td>18.0</td>\n",
              "      <td>1860.0</td>\n",
              "      <td>409.0</td>\n",
              "      <td>741.0</td>\n",
              "      <td>349.0</td>\n",
              "      <td>1.8672</td>\n",
              "      <td>84700.0</td>\n",
              "      <td>5.329513</td>\n",
              "      <td>0.219892</td>\n",
              "      <td>2.123209</td>\n",
              "      <td>0.0</td>\n",
              "      <td>1.0</td>\n",
              "      <td>0.0</td>\n",
              "      <td>0.0</td>\n",
              "      <td>0.0</td>\n",
              "    </tr>\n",
              "    <tr>\n",
              "      <th>20639</th>\n",
              "      <td>-121.24</td>\n",
              "      <td>39.37</td>\n",
              "      <td>16.0</td>\n",
              "      <td>2785.0</td>\n",
              "      <td>616.0</td>\n",
              "      <td>1387.0</td>\n",
              "      <td>530.0</td>\n",
              "      <td>2.3886</td>\n",
              "      <td>89400.0</td>\n",
              "      <td>5.254717</td>\n",
              "      <td>0.221185</td>\n",
              "      <td>2.616981</td>\n",
              "      <td>0.0</td>\n",
              "      <td>1.0</td>\n",
              "      <td>0.0</td>\n",
              "      <td>0.0</td>\n",
              "      <td>0.0</td>\n",
              "    </tr>\n",
              "  </tbody>\n",
              "</table>\n",
              "<p>20640 rows × 17 columns</p>\n",
              "</div>"
            ],
            "text/plain": [
              "       longitude  ...  ocean_proximity_NEAR OCEAN\n",
              "0        -122.23  ...                         0.0\n",
              "1        -122.22  ...                         0.0\n",
              "2        -122.24  ...                         0.0\n",
              "3        -122.25  ...                         0.0\n",
              "4        -122.25  ...                         0.0\n",
              "...          ...  ...                         ...\n",
              "20635    -121.09  ...                         0.0\n",
              "20636    -121.21  ...                         0.0\n",
              "20637    -121.22  ...                         0.0\n",
              "20638    -121.32  ...                         0.0\n",
              "20639    -121.24  ...                         0.0\n",
              "\n",
              "[20640 rows x 17 columns]"
            ]
          },
          "metadata": {
            "tags": []
          },
          "execution_count": 33
        }
      ]
    },
    {
      "cell_type": "code",
      "metadata": {
        "id": "JMMbjTyu1DNh",
        "outputId": "9fc63c25-c7e6-4c74-f15a-db814e0cb8d9",
        "colab": {
          "base_uri": "https://localhost:8080/"
        }
      },
      "source": [
        "housing.info()"
      ],
      "execution_count": 34,
      "outputs": [
        {
          "output_type": "stream",
          "text": [
            "<class 'pandas.core.frame.DataFrame'>\n",
            "RangeIndex: 20640 entries, 0 to 20639\n",
            "Data columns (total 17 columns):\n",
            " #   Column                      Non-Null Count  Dtype  \n",
            "---  ------                      --------------  -----  \n",
            " 0   longitude                   20640 non-null  float64\n",
            " 1   latitude                    20640 non-null  float64\n",
            " 2   housing_median_age          20640 non-null  float64\n",
            " 3   total_rooms                 20640 non-null  float64\n",
            " 4   total_bedrooms              20640 non-null  float64\n",
            " 5   population                  20640 non-null  float64\n",
            " 6   households                  20640 non-null  float64\n",
            " 7   median_income               20640 non-null  float64\n",
            " 8   median_house_value          20640 non-null  float64\n",
            " 9   rooms_per_household         20640 non-null  float64\n",
            " 10  bedrooms_per_room           20640 non-null  float64\n",
            " 11  population_per_household    20640 non-null  float64\n",
            " 12  ocean_proximity_<1H OCEAN   20640 non-null  float64\n",
            " 13  ocean_proximity_INLAND      20640 non-null  float64\n",
            " 14  ocean_proximity_ISLAND      20640 non-null  float64\n",
            " 15  ocean_proximity_NEAR BAY    20640 non-null  float64\n",
            " 16  ocean_proximity_NEAR OCEAN  20640 non-null  float64\n",
            "dtypes: float64(17)\n",
            "memory usage: 2.7 MB\n"
          ],
          "name": "stdout"
        }
      ]
    },
    {
      "cell_type": "markdown",
      "metadata": {
        "id": "cWc51TgckOcN"
      },
      "source": [
        "# Convert Regression dataset to Binary Classification dataset"
      ]
    },
    {
      "cell_type": "code",
      "metadata": {
        "id": "mxX5QTi5N4aS"
      },
      "source": [
        "housing['median_house_value'] = np.where(housing['median_house_value']>200000.0,1,0)\n",
        "housing.rename(columns={'median_house_value': 'expensive'}, inplace= True)"
      ],
      "execution_count": 35,
      "outputs": []
    },
    {
      "cell_type": "code",
      "metadata": {
        "id": "VoJULEb1OmyO",
        "outputId": "b781d539-4ac0-4bf4-a07e-d5e46fe0beb4",
        "colab": {
          "base_uri": "https://localhost:8080/"
        }
      },
      "source": [
        "housing['expensive'].value_counts()"
      ],
      "execution_count": 36,
      "outputs": [
        {
          "output_type": "execute_result",
          "data": {
            "text/plain": [
              "0    11931\n",
              "1     8709\n",
              "Name: expensive, dtype: int64"
            ]
          },
          "metadata": {
            "tags": []
          },
          "execution_count": 36
        }
      ]
    },
    {
      "cell_type": "code",
      "metadata": {
        "id": "TpHZCMqws9My",
        "outputId": "1c14d941-730c-4a9a-8a1e-e20500173142",
        "colab": {
          "base_uri": "https://localhost:8080/"
        }
      },
      "source": [
        "housing.info()"
      ],
      "execution_count": 42,
      "outputs": [
        {
          "output_type": "stream",
          "text": [
            "<class 'pandas.core.frame.DataFrame'>\n",
            "RangeIndex: 20640 entries, 0 to 20639\n",
            "Data columns (total 18 columns):\n",
            " #   Column                      Non-Null Count  Dtype  \n",
            "---  ------                      --------------  -----  \n",
            " 0   longitude                   20640 non-null  float64\n",
            " 1   latitude                    20640 non-null  float64\n",
            " 2   housing_median_age          20640 non-null  float64\n",
            " 3   total_rooms                 20640 non-null  float64\n",
            " 4   total_bedrooms              20433 non-null  float64\n",
            " 5   population                  20640 non-null  float64\n",
            " 6   households                  20640 non-null  float64\n",
            " 7   median_income               20640 non-null  float64\n",
            " 8   median_house_value          20640 non-null  float64\n",
            " 9   rooms_per_household         20640 non-null  float64\n",
            " 10  bedrooms_per_room           20433 non-null  float64\n",
            " 11  population_per_household    20640 non-null  float64\n",
            " 12  ocean_proximity_<1H OCEAN   20640 non-null  uint8  \n",
            " 13  ocean_proximity_INLAND      20640 non-null  uint8  \n",
            " 14  ocean_proximity_ISLAND      20640 non-null  uint8  \n",
            " 15  ocean_proximity_NEAR BAY    20640 non-null  uint8  \n",
            " 16  ocean_proximity_NEAR OCEAN  20640 non-null  uint8  \n",
            " 17  expensive                   20640 non-null  int64  \n",
            "dtypes: float64(12), int64(1), uint8(5)\n",
            "memory usage: 2.1 MB\n"
          ],
          "name": "stdout"
        }
      ]
    },
    {
      "cell_type": "markdown",
      "metadata": {
        "id": "RFHd6ub5lQjc"
      },
      "source": [
        "# Create trainset and testset"
      ]
    },
    {
      "cell_type": "markdown",
      "metadata": {
        "id": "Anre_VeQmjpg"
      },
      "source": [
        "The median income is a very important attribute to predict median housing prices. We may want to ensure that the test set is representative of the various categories of incomes in the whole dataset. So we are gonna create an income category attribute with five categories:"
      ]
    },
    {
      "cell_type": "code",
      "metadata": {
        "id": "nY-0DqMllh9r"
      },
      "source": [
        "housing[\"income_cat\"] = pd.cut(housing[\"median_income\"],bins=[0., 1.5, 3.0, 4.5, 6., np.inf],labels=[1, 2, 3, 4, 5])"
      ],
      "execution_count": 37,
      "outputs": []
    },
    {
      "cell_type": "code",
      "metadata": {
        "id": "_qhcMkkZncNU",
        "outputId": "0ffea3c4-fafc-4517-97c4-36e9405cb889",
        "colab": {
          "base_uri": "https://localhost:8080/",
          "height": 282
        }
      },
      "source": [
        " housing[\"income_cat\"].hist()"
      ],
      "execution_count": 38,
      "outputs": [
        {
          "output_type": "execute_result",
          "data": {
            "text/plain": [
              "<matplotlib.axes._subplots.AxesSubplot at 0x7f3081e0fb10>"
            ]
          },
          "metadata": {
            "tags": []
          },
          "execution_count": 38
        },
        {
          "output_type": "display_data",
          "data": {
            "image/png": "[encoded data removed]",
            "text/plain": [
              "<Figure size 432x288 with 1 Axes>"
            ]
          },
          "metadata": {
            "tags": [],
            "needs_background": "light"
          }
        }
      ]
    },
    {
      "cell_type": "code",
      "metadata": {
        "id": "vazoI-tJnrhe"
      },
      "source": [
        "split = StratifiedShuffleSplit(n_splits=1, test_size=0.2, random_state=42)"
      ],
      "execution_count": 39,
      "outputs": []
    },
    {
      "cell_type": "code",
      "metadata": {
        "id": "pFXeyXHvn1Nh"
      },
      "source": [
        "for train_index, test_index in split.split(housing, housing[\"income_cat\"]):\n",
        "        strat_train_set = housing.loc[train_index]\n",
        "        strat_test_set = housing.loc[test_index]"
      ],
      "execution_count": 45,
      "outputs": []
    },
    {
      "cell_type": "code",
      "metadata": {
        "id": "w3JKuG5ZoFt6",
        "outputId": "f893dc25-c1c6-40c8-bd40-bec5ecb02200",
        "colab": {
          "base_uri": "https://localhost:8080/"
        }
      },
      "source": [
        "strat_test_set[\"income_cat\"].value_counts() / len(strat_test_set)"
      ],
      "execution_count": 46,
      "outputs": [
        {
          "output_type": "execute_result",
          "data": {
            "text/plain": [
              "3    0.350533\n",
              "2    0.318798\n",
              "4    0.176357\n",
              "5    0.114583\n",
              "1    0.039729\n",
              "Name: income_cat, dtype: float64"
            ]
          },
          "metadata": {
            "tags": []
          },
          "execution_count": 46
        }
      ]
    },
    {
      "cell_type": "code",
      "metadata": {
        "id": "wKsFCqz5oG4F",
        "outputId": "d968b0f3-1d84-460d-fe58-47a961355803",
        "colab": {
          "base_uri": "https://localhost:8080/"
        }
      },
      "source": [
        "strat_train_set[\"income_cat\"].value_counts() / len(strat_train_set)"
      ],
      "execution_count": 47,
      "outputs": [
        {
          "output_type": "execute_result",
          "data": {
            "text/plain": [
              "3    0.350594\n",
              "2    0.318859\n",
              "4    0.176296\n",
              "5    0.114402\n",
              "1    0.039850\n",
              "Name: income_cat, dtype: float64"
            ]
          },
          "metadata": {
            "tags": []
          },
          "execution_count": 47
        }
      ]
    },
    {
      "cell_type": "markdown",
      "metadata": {
        "id": "AwvG9kbuoUMg"
      },
      "source": [
        "Then remove the income_cat attribute so the data is back to its original"
      ]
    },
    {
      "cell_type": "code",
      "metadata": {
        "id": "QnhBZzsDxQC9"
      },
      "source": [
        "for set_ in (strat_train_set, strat_test_set): \n",
        "  set_.drop(\"income_cat\", axis=1, inplace=True)"
      ],
      "execution_count": 48,
      "outputs": []
    },
    {
      "cell_type": "markdown",
      "metadata": {
        "id": "XXBo619TxIwr"
      },
      "source": [
        "Separate the predictors and the labels, since we don’t necessarily want to apply the same transformations to the predictors and the target values:"
      ]
    },
    {
      "cell_type": "code",
      "metadata": {
        "id": "5ILZBrxgoWWL"
      },
      "source": [
        "housing = strat_train_set.drop(\"expensive\", axis=1)\n",
        "housing_labels = strat_train_set[\"expensive\"].copy()"
      ],
      "execution_count": 49,
      "outputs": []
    },
    {
      "cell_type": "code",
      "metadata": {
        "id": "pRMtXNuiptNs"
      },
      "source": [
        "X_test = strat_test_set.drop(\"expensive\", axis=1)\n",
        "y_test = strat_test_set[\"expensive\"].copy()"
      ],
      "execution_count": 50,
      "outputs": []
    },
    {
      "cell_type": "code",
      "metadata": {
        "id": "GT8a1IXIWVgy",
        "outputId": "4c4ef157-b0f3-4eba-fd9a-32ab5cf6cd60",
        "colab": {
          "base_uri": "https://localhost:8080/",
          "height": 456
        }
      },
      "source": [
        "housing"
      ],
      "execution_count": 52,
      "outputs": [
        {
          "output_type": "execute_result",
          "data": {
            "text/html": [
              "<div>\n",
              "<style scoped>\n",
              "    .dataframe tbody tr th:only-of-type {\n",
              "        vertical-align: middle;\n",
              "    }\n",
              "\n",
              "    .dataframe tbody tr th {\n",
              "        vertical-align: top;\n",
              "    }\n",
              "\n",
              "    .dataframe thead th {\n",
              "        text-align: right;\n",
              "    }\n",
              "</style>\n",
              "<table border=\"1\" class=\"dataframe\">\n",
              "  <thead>\n",
              "    <tr style=\"text-align: right;\">\n",
              "      <th></th>\n",
              "      <th>longitude</th>\n",
              "      <th>latitude</th>\n",
              "      <th>housing_median_age</th>\n",
              "      <th>total_rooms</th>\n",
              "      <th>total_bedrooms</th>\n",
              "      <th>population</th>\n",
              "      <th>households</th>\n",
              "      <th>median_income</th>\n",
              "      <th>rooms_per_household</th>\n",
              "      <th>bedrooms_per_room</th>\n",
              "      <th>population_per_household</th>\n",
              "      <th>ocean_proximity_&lt;1H OCEAN</th>\n",
              "      <th>ocean_proximity_INLAND</th>\n",
              "      <th>ocean_proximity_ISLAND</th>\n",
              "      <th>ocean_proximity_NEAR BAY</th>\n",
              "      <th>ocean_proximity_NEAR OCEAN</th>\n",
              "    </tr>\n",
              "  </thead>\n",
              "  <tbody>\n",
              "    <tr>\n",
              "      <th>17606</th>\n",
              "      <td>-121.89</td>\n",
              "      <td>37.29</td>\n",
              "      <td>38.0</td>\n",
              "      <td>1568.0</td>\n",
              "      <td>351.0</td>\n",
              "      <td>710.0</td>\n",
              "      <td>339.0</td>\n",
              "      <td>2.7042</td>\n",
              "      <td>4.625369</td>\n",
              "      <td>0.223852</td>\n",
              "      <td>2.094395</td>\n",
              "      <td>1.0</td>\n",
              "      <td>0.0</td>\n",
              "      <td>0.0</td>\n",
              "      <td>0.0</td>\n",
              "      <td>0.0</td>\n",
              "    </tr>\n",
              "    <tr>\n",
              "      <th>18632</th>\n",
              "      <td>-121.93</td>\n",
              "      <td>37.05</td>\n",
              "      <td>14.0</td>\n",
              "      <td>679.0</td>\n",
              "      <td>108.0</td>\n",
              "      <td>306.0</td>\n",
              "      <td>113.0</td>\n",
              "      <td>6.4214</td>\n",
              "      <td>6.008850</td>\n",
              "      <td>0.159057</td>\n",
              "      <td>2.707965</td>\n",
              "      <td>1.0</td>\n",
              "      <td>0.0</td>\n",
              "      <td>0.0</td>\n",
              "      <td>0.0</td>\n",
              "      <td>0.0</td>\n",
              "    </tr>\n",
              "    <tr>\n",
              "      <th>14650</th>\n",
              "      <td>-117.20</td>\n",
              "      <td>32.77</td>\n",
              "      <td>31.0</td>\n",
              "      <td>1952.0</td>\n",
              "      <td>471.0</td>\n",
              "      <td>936.0</td>\n",
              "      <td>462.0</td>\n",
              "      <td>2.8621</td>\n",
              "      <td>4.225108</td>\n",
              "      <td>0.241291</td>\n",
              "      <td>2.025974</td>\n",
              "      <td>0.0</td>\n",
              "      <td>0.0</td>\n",
              "      <td>0.0</td>\n",
              "      <td>0.0</td>\n",
              "      <td>1.0</td>\n",
              "    </tr>\n",
              "    <tr>\n",
              "      <th>3230</th>\n",
              "      <td>-119.61</td>\n",
              "      <td>36.31</td>\n",
              "      <td>25.0</td>\n",
              "      <td>1847.0</td>\n",
              "      <td>371.0</td>\n",
              "      <td>1460.0</td>\n",
              "      <td>353.0</td>\n",
              "      <td>1.8839</td>\n",
              "      <td>5.232295</td>\n",
              "      <td>0.200866</td>\n",
              "      <td>4.135977</td>\n",
              "      <td>0.0</td>\n",
              "      <td>1.0</td>\n",
              "      <td>0.0</td>\n",
              "      <td>0.0</td>\n",
              "      <td>0.0</td>\n",
              "    </tr>\n",
              "    <tr>\n",
              "      <th>3555</th>\n",
              "      <td>-118.59</td>\n",
              "      <td>34.23</td>\n",
              "      <td>17.0</td>\n",
              "      <td>6592.0</td>\n",
              "      <td>1525.0</td>\n",
              "      <td>4459.0</td>\n",
              "      <td>1463.0</td>\n",
              "      <td>3.0347</td>\n",
              "      <td>4.505810</td>\n",
              "      <td>0.231341</td>\n",
              "      <td>3.047847</td>\n",
              "      <td>1.0</td>\n",
              "      <td>0.0</td>\n",
              "      <td>0.0</td>\n",
              "      <td>0.0</td>\n",
              "      <td>0.0</td>\n",
              "    </tr>\n",
              "    <tr>\n",
              "      <th>...</th>\n",
              "      <td>...</td>\n",
              "      <td>...</td>\n",
              "      <td>...</td>\n",
              "      <td>...</td>\n",
              "      <td>...</td>\n",
              "      <td>...</td>\n",
              "      <td>...</td>\n",
              "      <td>...</td>\n",
              "      <td>...</td>\n",
              "      <td>...</td>\n",
              "      <td>...</td>\n",
              "      <td>...</td>\n",
              "      <td>...</td>\n",
              "      <td>...</td>\n",
              "      <td>...</td>\n",
              "      <td>...</td>\n",
              "    </tr>\n",
              "    <tr>\n",
              "      <th>6563</th>\n",
              "      <td>-118.13</td>\n",
              "      <td>34.20</td>\n",
              "      <td>46.0</td>\n",
              "      <td>1271.0</td>\n",
              "      <td>236.0</td>\n",
              "      <td>573.0</td>\n",
              "      <td>210.0</td>\n",
              "      <td>4.9312</td>\n",
              "      <td>6.052381</td>\n",
              "      <td>0.185681</td>\n",
              "      <td>2.728571</td>\n",
              "      <td>0.0</td>\n",
              "      <td>1.0</td>\n",
              "      <td>0.0</td>\n",
              "      <td>0.0</td>\n",
              "      <td>0.0</td>\n",
              "    </tr>\n",
              "    <tr>\n",
              "      <th>12053</th>\n",
              "      <td>-117.56</td>\n",
              "      <td>33.88</td>\n",
              "      <td>40.0</td>\n",
              "      <td>1196.0</td>\n",
              "      <td>294.0</td>\n",
              "      <td>1052.0</td>\n",
              "      <td>258.0</td>\n",
              "      <td>2.0682</td>\n",
              "      <td>4.635659</td>\n",
              "      <td>0.245819</td>\n",
              "      <td>4.077519</td>\n",
              "      <td>0.0</td>\n",
              "      <td>1.0</td>\n",
              "      <td>0.0</td>\n",
              "      <td>0.0</td>\n",
              "      <td>0.0</td>\n",
              "    </tr>\n",
              "    <tr>\n",
              "      <th>13908</th>\n",
              "      <td>-116.40</td>\n",
              "      <td>34.09</td>\n",
              "      <td>9.0</td>\n",
              "      <td>4855.0</td>\n",
              "      <td>872.0</td>\n",
              "      <td>2098.0</td>\n",
              "      <td>765.0</td>\n",
              "      <td>3.2723</td>\n",
              "      <td>6.346405</td>\n",
              "      <td>0.179609</td>\n",
              "      <td>2.742484</td>\n",
              "      <td>0.0</td>\n",
              "      <td>1.0</td>\n",
              "      <td>0.0</td>\n",
              "      <td>0.0</td>\n",
              "      <td>0.0</td>\n",
              "    </tr>\n",
              "    <tr>\n",
              "      <th>11159</th>\n",
              "      <td>-118.01</td>\n",
              "      <td>33.82</td>\n",
              "      <td>31.0</td>\n",
              "      <td>1960.0</td>\n",
              "      <td>380.0</td>\n",
              "      <td>1356.0</td>\n",
              "      <td>356.0</td>\n",
              "      <td>4.0625</td>\n",
              "      <td>5.505618</td>\n",
              "      <td>0.193878</td>\n",
              "      <td>3.808989</td>\n",
              "      <td>1.0</td>\n",
              "      <td>0.0</td>\n",
              "      <td>0.0</td>\n",
              "      <td>0.0</td>\n",
              "      <td>0.0</td>\n",
              "    </tr>\n",
              "    <tr>\n",
              "      <th>15775</th>\n",
              "      <td>-122.45</td>\n",
              "      <td>37.77</td>\n",
              "      <td>52.0</td>\n",
              "      <td>3095.0</td>\n",
              "      <td>682.0</td>\n",
              "      <td>1269.0</td>\n",
              "      <td>639.0</td>\n",
              "      <td>3.5750</td>\n",
              "      <td>4.843505</td>\n",
              "      <td>0.220355</td>\n",
              "      <td>1.985915</td>\n",
              "      <td>0.0</td>\n",
              "      <td>0.0</td>\n",
              "      <td>0.0</td>\n",
              "      <td>1.0</td>\n",
              "      <td>0.0</td>\n",
              "    </tr>\n",
              "  </tbody>\n",
              "</table>\n",
              "<p>16512 rows × 16 columns</p>\n",
              "</div>"
            ],
            "text/plain": [
              "       longitude  ...  ocean_proximity_NEAR OCEAN\n",
              "17606    -121.89  ...                         0.0\n",
              "18632    -121.93  ...                         0.0\n",
              "14650    -117.20  ...                         1.0\n",
              "3230     -119.61  ...                         0.0\n",
              "3555     -118.59  ...                         0.0\n",
              "...          ...  ...                         ...\n",
              "6563     -118.13  ...                         0.0\n",
              "12053    -117.56  ...                         0.0\n",
              "13908    -116.40  ...                         0.0\n",
              "11159    -118.01  ...                         0.0\n",
              "15775    -122.45  ...                         0.0\n",
              "\n",
              "[16512 rows x 16 columns]"
            ]
          },
          "metadata": {
            "tags": []
          },
          "execution_count": 52
        }
      ]
    },
    {
      "cell_type": "code",
      "metadata": {
        "id": "b2Qqt7XcYVBf",
        "outputId": "02346d1e-64ae-4dae-a5c9-f126e243cac5",
        "colab": {
          "base_uri": "https://localhost:8080/",
          "height": 456
        }
      },
      "source": [
        "X_test"
      ],
      "execution_count": 53,
      "outputs": [
        {
          "output_type": "execute_result",
          "data": {
            "text/html": [
              "<div>\n",
              "<style scoped>\n",
              "    .dataframe tbody tr th:only-of-type {\n",
              "        vertical-align: middle;\n",
              "    }\n",
              "\n",
              "    .dataframe tbody tr th {\n",
              "        vertical-align: top;\n",
              "    }\n",
              "\n",
              "    .dataframe thead th {\n",
              "        text-align: right;\n",
              "    }\n",
              "</style>\n",
              "<table border=\"1\" class=\"dataframe\">\n",
              "  <thead>\n",
              "    <tr style=\"text-align: right;\">\n",
              "      <th></th>\n",
              "      <th>longitude</th>\n",
              "      <th>latitude</th>\n",
              "      <th>housing_median_age</th>\n",
              "      <th>total_rooms</th>\n",
              "      <th>total_bedrooms</th>\n",
              "      <th>population</th>\n",
              "      <th>households</th>\n",
              "      <th>median_income</th>\n",
              "      <th>rooms_per_household</th>\n",
              "      <th>bedrooms_per_room</th>\n",
              "      <th>population_per_household</th>\n",
              "      <th>ocean_proximity_&lt;1H OCEAN</th>\n",
              "      <th>ocean_proximity_INLAND</th>\n",
              "      <th>ocean_proximity_ISLAND</th>\n",
              "      <th>ocean_proximity_NEAR BAY</th>\n",
              "      <th>ocean_proximity_NEAR OCEAN</th>\n",
              "    </tr>\n",
              "  </thead>\n",
              "  <tbody>\n",
              "    <tr>\n",
              "      <th>5241</th>\n",
              "      <td>-118.39</td>\n",
              "      <td>34.12</td>\n",
              "      <td>29.0</td>\n",
              "      <td>6447.0</td>\n",
              "      <td>1012.0</td>\n",
              "      <td>2184.0</td>\n",
              "      <td>960.0</td>\n",
              "      <td>8.2816</td>\n",
              "      <td>6.715625</td>\n",
              "      <td>0.156972</td>\n",
              "      <td>2.275000</td>\n",
              "      <td>1.0</td>\n",
              "      <td>0.0</td>\n",
              "      <td>0.0</td>\n",
              "      <td>0.0</td>\n",
              "      <td>0.0</td>\n",
              "    </tr>\n",
              "    <tr>\n",
              "      <th>10970</th>\n",
              "      <td>-117.86</td>\n",
              "      <td>33.77</td>\n",
              "      <td>39.0</td>\n",
              "      <td>4159.0</td>\n",
              "      <td>655.0</td>\n",
              "      <td>1669.0</td>\n",
              "      <td>651.0</td>\n",
              "      <td>4.6111</td>\n",
              "      <td>6.388633</td>\n",
              "      <td>0.157490</td>\n",
              "      <td>2.563748</td>\n",
              "      <td>1.0</td>\n",
              "      <td>0.0</td>\n",
              "      <td>0.0</td>\n",
              "      <td>0.0</td>\n",
              "      <td>0.0</td>\n",
              "    </tr>\n",
              "    <tr>\n",
              "      <th>20351</th>\n",
              "      <td>-119.05</td>\n",
              "      <td>34.21</td>\n",
              "      <td>27.0</td>\n",
              "      <td>4357.0</td>\n",
              "      <td>926.0</td>\n",
              "      <td>2110.0</td>\n",
              "      <td>876.0</td>\n",
              "      <td>3.0119</td>\n",
              "      <td>4.973744</td>\n",
              "      <td>0.212532</td>\n",
              "      <td>2.408676</td>\n",
              "      <td>1.0</td>\n",
              "      <td>0.0</td>\n",
              "      <td>0.0</td>\n",
              "      <td>0.0</td>\n",
              "      <td>0.0</td>\n",
              "    </tr>\n",
              "    <tr>\n",
              "      <th>6568</th>\n",
              "      <td>-118.15</td>\n",
              "      <td>34.20</td>\n",
              "      <td>52.0</td>\n",
              "      <td>1786.0</td>\n",
              "      <td>306.0</td>\n",
              "      <td>1018.0</td>\n",
              "      <td>322.0</td>\n",
              "      <td>4.1518</td>\n",
              "      <td>5.546584</td>\n",
              "      <td>0.171333</td>\n",
              "      <td>3.161491</td>\n",
              "      <td>0.0</td>\n",
              "      <td>1.0</td>\n",
              "      <td>0.0</td>\n",
              "      <td>0.0</td>\n",
              "      <td>0.0</td>\n",
              "    </tr>\n",
              "    <tr>\n",
              "      <th>13285</th>\n",
              "      <td>-117.68</td>\n",
              "      <td>34.07</td>\n",
              "      <td>32.0</td>\n",
              "      <td>1775.0</td>\n",
              "      <td>314.0</td>\n",
              "      <td>1067.0</td>\n",
              "      <td>302.0</td>\n",
              "      <td>4.0375</td>\n",
              "      <td>5.877483</td>\n",
              "      <td>0.176901</td>\n",
              "      <td>3.533113</td>\n",
              "      <td>0.0</td>\n",
              "      <td>1.0</td>\n",
              "      <td>0.0</td>\n",
              "      <td>0.0</td>\n",
              "      <td>0.0</td>\n",
              "    </tr>\n",
              "    <tr>\n",
              "      <th>...</th>\n",
              "      <td>...</td>\n",
              "      <td>...</td>\n",
              "      <td>...</td>\n",
              "      <td>...</td>\n",
              "      <td>...</td>\n",
              "      <td>...</td>\n",
              "      <td>...</td>\n",
              "      <td>...</td>\n",
              "      <td>...</td>\n",
              "      <td>...</td>\n",
              "      <td>...</td>\n",
              "      <td>...</td>\n",
              "      <td>...</td>\n",
              "      <td>...</td>\n",
              "      <td>...</td>\n",
              "      <td>...</td>\n",
              "    </tr>\n",
              "    <tr>\n",
              "      <th>20519</th>\n",
              "      <td>-121.53</td>\n",
              "      <td>38.58</td>\n",
              "      <td>33.0</td>\n",
              "      <td>4988.0</td>\n",
              "      <td>1169.0</td>\n",
              "      <td>2414.0</td>\n",
              "      <td>1075.0</td>\n",
              "      <td>1.9728</td>\n",
              "      <td>4.640000</td>\n",
              "      <td>0.234362</td>\n",
              "      <td>2.245581</td>\n",
              "      <td>0.0</td>\n",
              "      <td>1.0</td>\n",
              "      <td>0.0</td>\n",
              "      <td>0.0</td>\n",
              "      <td>0.0</td>\n",
              "    </tr>\n",
              "    <tr>\n",
              "      <th>17430</th>\n",
              "      <td>-120.44</td>\n",
              "      <td>34.65</td>\n",
              "      <td>30.0</td>\n",
              "      <td>2265.0</td>\n",
              "      <td>512.0</td>\n",
              "      <td>1402.0</td>\n",
              "      <td>471.0</td>\n",
              "      <td>1.9750</td>\n",
              "      <td>4.808917</td>\n",
              "      <td>0.226049</td>\n",
              "      <td>2.976645</td>\n",
              "      <td>0.0</td>\n",
              "      <td>0.0</td>\n",
              "      <td>0.0</td>\n",
              "      <td>0.0</td>\n",
              "      <td>1.0</td>\n",
              "    </tr>\n",
              "    <tr>\n",
              "      <th>4019</th>\n",
              "      <td>-118.49</td>\n",
              "      <td>34.18</td>\n",
              "      <td>31.0</td>\n",
              "      <td>3073.0</td>\n",
              "      <td>674.0</td>\n",
              "      <td>1486.0</td>\n",
              "      <td>684.0</td>\n",
              "      <td>4.8984</td>\n",
              "      <td>4.492690</td>\n",
              "      <td>0.219330</td>\n",
              "      <td>2.172515</td>\n",
              "      <td>1.0</td>\n",
              "      <td>0.0</td>\n",
              "      <td>0.0</td>\n",
              "      <td>0.0</td>\n",
              "      <td>0.0</td>\n",
              "    </tr>\n",
              "    <tr>\n",
              "      <th>12107</th>\n",
              "      <td>-117.32</td>\n",
              "      <td>33.99</td>\n",
              "      <td>27.0</td>\n",
              "      <td>5464.0</td>\n",
              "      <td>850.0</td>\n",
              "      <td>2400.0</td>\n",
              "      <td>836.0</td>\n",
              "      <td>4.7110</td>\n",
              "      <td>6.535885</td>\n",
              "      <td>0.155564</td>\n",
              "      <td>2.870813</td>\n",
              "      <td>0.0</td>\n",
              "      <td>1.0</td>\n",
              "      <td>0.0</td>\n",
              "      <td>0.0</td>\n",
              "      <td>0.0</td>\n",
              "    </tr>\n",
              "    <tr>\n",
              "      <th>2398</th>\n",
              "      <td>-118.91</td>\n",
              "      <td>36.79</td>\n",
              "      <td>19.0</td>\n",
              "      <td>1616.0</td>\n",
              "      <td>324.0</td>\n",
              "      <td>187.0</td>\n",
              "      <td>80.0</td>\n",
              "      <td>3.7857</td>\n",
              "      <td>20.200000</td>\n",
              "      <td>0.200495</td>\n",
              "      <td>2.337500</td>\n",
              "      <td>0.0</td>\n",
              "      <td>1.0</td>\n",
              "      <td>0.0</td>\n",
              "      <td>0.0</td>\n",
              "      <td>0.0</td>\n",
              "    </tr>\n",
              "  </tbody>\n",
              "</table>\n",
              "<p>4128 rows × 16 columns</p>\n",
              "</div>"
            ],
            "text/plain": [
              "       longitude  ...  ocean_proximity_NEAR OCEAN\n",
              "5241     -118.39  ...                         0.0\n",
              "10970    -117.86  ...                         0.0\n",
              "20351    -119.05  ...                         0.0\n",
              "6568     -118.15  ...                         0.0\n",
              "13285    -117.68  ...                         0.0\n",
              "...          ...  ...                         ...\n",
              "20519    -121.53  ...                         0.0\n",
              "17430    -120.44  ...                         1.0\n",
              "4019     -118.49  ...                         0.0\n",
              "12107    -117.32  ...                         0.0\n",
              "2398     -118.91  ...                         0.0\n",
              "\n",
              "[4128 rows x 16 columns]"
            ]
          },
          "metadata": {
            "tags": []
          },
          "execution_count": 53
        }
      ]
    },
    {
      "cell_type": "markdown",
      "metadata": {
        "id": "c6C3zCpz-gxo"
      },
      "source": [
        "# Feature Scaling"
      ]
    },
    {
      "cell_type": "code",
      "metadata": {
        "id": "1l6I2xbo-0yB"
      },
      "source": [
        "# normalize data\n",
        "std_scaler = StandardScaler()\n",
        "\n",
        "housing_prepared = std_scaler.fit_transform(housing)\n",
        "X_test_prepared = std_scaler.fit_transform(X_test)"
      ],
      "execution_count": 57,
      "outputs": []
    },
    {
      "cell_type": "code",
      "metadata": {
        "id": "y2i6X0pt_FTU",
        "outputId": "021a6424-8761-410c-f23e-23a58a19e7e3",
        "colab": {
          "base_uri": "https://localhost:8080/",
          "height": 456
        }
      },
      "source": [
        "housing_prepared = pd.DataFrame(housing_prepared, columns=housing.columns, index=housing.index)\n",
        "housing_prepared"
      ],
      "execution_count": 58,
      "outputs": [
        {
          "output_type": "execute_result",
          "data": {
            "text/html": [
              "<div>\n",
              "<style scoped>\n",
              "    .dataframe tbody tr th:only-of-type {\n",
              "        vertical-align: middle;\n",
              "    }\n",
              "\n",
              "    .dataframe tbody tr th {\n",
              "        vertical-align: top;\n",
              "    }\n",
              "\n",
              "    .dataframe thead th {\n",
              "        text-align: right;\n",
              "    }\n",
              "</style>\n",
              "<table border=\"1\" class=\"dataframe\">\n",
              "  <thead>\n",
              "    <tr style=\"text-align: right;\">\n",
              "      <th></th>\n",
              "      <th>longitude</th>\n",
              "      <th>latitude</th>\n",
              "      <th>housing_median_age</th>\n",
              "      <th>total_rooms</th>\n",
              "      <th>total_bedrooms</th>\n",
              "      <th>population</th>\n",
              "      <th>households</th>\n",
              "      <th>median_income</th>\n",
              "      <th>rooms_per_household</th>\n",
              "      <th>bedrooms_per_room</th>\n",
              "      <th>population_per_household</th>\n",
              "      <th>ocean_proximity_&lt;1H OCEAN</th>\n",
              "      <th>ocean_proximity_INLAND</th>\n",
              "      <th>ocean_proximity_ISLAND</th>\n",
              "      <th>ocean_proximity_NEAR BAY</th>\n",
              "      <th>ocean_proximity_NEAR OCEAN</th>\n",
              "    </tr>\n",
              "  </thead>\n",
              "  <tbody>\n",
              "    <tr>\n",
              "      <th>17606</th>\n",
              "      <td>-1.156043</td>\n",
              "      <td>0.771950</td>\n",
              "      <td>0.743331</td>\n",
              "      <td>-0.493234</td>\n",
              "      <td>-0.445490</td>\n",
              "      <td>-0.636211</td>\n",
              "      <td>-0.420698</td>\n",
              "      <td>-0.614937</td>\n",
              "      <td>-0.312055</td>\n",
              "      <td>0.193784</td>\n",
              "      <td>-0.086499</td>\n",
              "      <td>1.126667</td>\n",
              "      <td>-0.684006</td>\n",
              "      <td>-0.011006</td>\n",
              "      <td>-0.354889</td>\n",
              "      <td>-0.384217</td>\n",
              "    </tr>\n",
              "    <tr>\n",
              "      <th>18632</th>\n",
              "      <td>-1.176025</td>\n",
              "      <td>0.659695</td>\n",
              "      <td>-1.165317</td>\n",
              "      <td>-0.908967</td>\n",
              "      <td>-1.036986</td>\n",
              "      <td>-0.998331</td>\n",
              "      <td>-1.022227</td>\n",
              "      <td>1.336459</td>\n",
              "      <td>0.217683</td>\n",
              "      <td>-0.940771</td>\n",
              "      <td>-0.033534</td>\n",
              "      <td>1.126667</td>\n",
              "      <td>-0.684006</td>\n",
              "      <td>-0.011006</td>\n",
              "      <td>-0.354889</td>\n",
              "      <td>-0.384217</td>\n",
              "    </tr>\n",
              "    <tr>\n",
              "      <th>14650</th>\n",
              "      <td>1.186849</td>\n",
              "      <td>-1.342183</td>\n",
              "      <td>0.186642</td>\n",
              "      <td>-0.313660</td>\n",
              "      <td>-0.153393</td>\n",
              "      <td>-0.433639</td>\n",
              "      <td>-0.093318</td>\n",
              "      <td>-0.532046</td>\n",
              "      <td>-0.465315</td>\n",
              "      <td>0.499140</td>\n",
              "      <td>-0.092405</td>\n",
              "      <td>-0.887574</td>\n",
              "      <td>-0.684006</td>\n",
              "      <td>-0.011006</td>\n",
              "      <td>-0.354889</td>\n",
              "      <td>2.602693</td>\n",
              "    </tr>\n",
              "    <tr>\n",
              "      <th>3230</th>\n",
              "      <td>-0.017068</td>\n",
              "      <td>0.313576</td>\n",
              "      <td>-0.290520</td>\n",
              "      <td>-0.362762</td>\n",
              "      <td>-0.396807</td>\n",
              "      <td>0.036041</td>\n",
              "      <td>-0.383436</td>\n",
              "      <td>-1.045566</td>\n",
              "      <td>-0.079661</td>\n",
              "      <td>-0.208697</td>\n",
              "      <td>0.089736</td>\n",
              "      <td>-0.887574</td>\n",
              "      <td>1.461976</td>\n",
              "      <td>-0.011006</td>\n",
              "      <td>-0.354889</td>\n",
              "      <td>-0.384217</td>\n",
              "    </tr>\n",
              "    <tr>\n",
              "      <th>3555</th>\n",
              "      <td>0.492474</td>\n",
              "      <td>-0.659299</td>\n",
              "      <td>-0.926736</td>\n",
              "      <td>1.856193</td>\n",
              "      <td>2.412192</td>\n",
              "      <td>2.724154</td>\n",
              "      <td>2.570975</td>\n",
              "      <td>-0.441437</td>\n",
              "      <td>-0.357834</td>\n",
              "      <td>0.324916</td>\n",
              "      <td>-0.004194</td>\n",
              "      <td>1.126667</td>\n",
              "      <td>-0.684006</td>\n",
              "      <td>-0.011006</td>\n",
              "      <td>-0.354889</td>\n",
              "      <td>-0.384217</td>\n",
              "    </tr>\n",
              "    <tr>\n",
              "      <th>...</th>\n",
              "      <td>...</td>\n",
              "      <td>...</td>\n",
              "      <td>...</td>\n",
              "      <td>...</td>\n",
              "      <td>...</td>\n",
              "      <td>...</td>\n",
              "      <td>...</td>\n",
              "      <td>...</td>\n",
              "      <td>...</td>\n",
              "      <td>...</td>\n",
              "      <td>...</td>\n",
              "      <td>...</td>\n",
              "      <td>...</td>\n",
              "      <td>...</td>\n",
              "      <td>...</td>\n",
              "      <td>...</td>\n",
              "    </tr>\n",
              "    <tr>\n",
              "      <th>6563</th>\n",
              "      <td>0.722267</td>\n",
              "      <td>-0.673331</td>\n",
              "      <td>1.379547</td>\n",
              "      <td>-0.632123</td>\n",
              "      <td>-0.725416</td>\n",
              "      <td>-0.759010</td>\n",
              "      <td>-0.764049</td>\n",
              "      <td>0.554158</td>\n",
              "      <td>0.234352</td>\n",
              "      <td>-0.474599</td>\n",
              "      <td>-0.031755</td>\n",
              "      <td>-0.887574</td>\n",
              "      <td>1.461976</td>\n",
              "      <td>-0.011006</td>\n",
              "      <td>-0.354889</td>\n",
              "      <td>-0.384217</td>\n",
              "    </tr>\n",
              "    <tr>\n",
              "      <th>12053</th>\n",
              "      <td>1.007011</td>\n",
              "      <td>-0.823004</td>\n",
              "      <td>0.902385</td>\n",
              "      <td>-0.667196</td>\n",
              "      <td>-0.584236</td>\n",
              "      <td>-0.329664</td>\n",
              "      <td>-0.636291</td>\n",
              "      <td>-0.948815</td>\n",
              "      <td>-0.308114</td>\n",
              "      <td>0.578433</td>\n",
              "      <td>0.084689</td>\n",
              "      <td>-0.887574</td>\n",
              "      <td>1.461976</td>\n",
              "      <td>-0.011006</td>\n",
              "      <td>-0.354889</td>\n",
              "      <td>-0.384217</td>\n",
              "    </tr>\n",
              "    <tr>\n",
              "      <th>13908</th>\n",
              "      <td>1.586489</td>\n",
              "      <td>-0.724781</td>\n",
              "      <td>-1.562952</td>\n",
              "      <td>1.043901</td>\n",
              "      <td>0.822698</td>\n",
              "      <td>0.607904</td>\n",
              "      <td>0.713156</td>\n",
              "      <td>-0.316705</td>\n",
              "      <td>0.346934</td>\n",
              "      <td>-0.580919</td>\n",
              "      <td>-0.030554</td>\n",
              "      <td>-0.887574</td>\n",
              "      <td>1.461976</td>\n",
              "      <td>-0.011006</td>\n",
              "      <td>-0.354889</td>\n",
              "      <td>-0.384217</td>\n",
              "    </tr>\n",
              "    <tr>\n",
              "      <th>11159</th>\n",
              "      <td>0.782213</td>\n",
              "      <td>-0.851068</td>\n",
              "      <td>0.186642</td>\n",
              "      <td>-0.309919</td>\n",
              "      <td>-0.374900</td>\n",
              "      <td>-0.057178</td>\n",
              "      <td>-0.375451</td>\n",
              "      <td>0.098121</td>\n",
              "      <td>0.024995</td>\n",
              "      <td>-0.331070</td>\n",
              "      <td>0.061509</td>\n",
              "      <td>1.126667</td>\n",
              "      <td>-0.684006</td>\n",
              "      <td>-0.011006</td>\n",
              "      <td>-0.354889</td>\n",
              "      <td>-0.384217</td>\n",
              "    </tr>\n",
              "    <tr>\n",
              "      <th>15775</th>\n",
              "      <td>-1.435791</td>\n",
              "      <td>0.996459</td>\n",
              "      <td>1.856709</td>\n",
              "      <td>0.220853</td>\n",
              "      <td>0.360211</td>\n",
              "      <td>-0.135159</td>\n",
              "      <td>0.377791</td>\n",
              "      <td>-0.157799</td>\n",
              "      <td>-0.228529</td>\n",
              "      <td>0.132558</td>\n",
              "      <td>-0.095863</td>\n",
              "      <td>-0.887574</td>\n",
              "      <td>-0.684006</td>\n",
              "      <td>-0.011006</td>\n",
              "      <td>2.817783</td>\n",
              "      <td>-0.384217</td>\n",
              "    </tr>\n",
              "  </tbody>\n",
              "</table>\n",
              "<p>16512 rows × 16 columns</p>\n",
              "</div>"
            ],
            "text/plain": [
              "       longitude  ...  ocean_proximity_NEAR OCEAN\n",
              "17606  -1.156043  ...                   -0.384217\n",
              "18632  -1.176025  ...                   -0.384217\n",
              "14650   1.186849  ...                    2.602693\n",
              "3230   -0.017068  ...                   -0.384217\n",
              "3555    0.492474  ...                   -0.384217\n",
              "...          ...  ...                         ...\n",
              "6563    0.722267  ...                   -0.384217\n",
              "12053   1.007011  ...                   -0.384217\n",
              "13908   1.586489  ...                   -0.384217\n",
              "11159   0.782213  ...                   -0.384217\n",
              "15775  -1.435791  ...                   -0.384217\n",
              "\n",
              "[16512 rows x 16 columns]"
            ]
          },
          "metadata": {
            "tags": []
          },
          "execution_count": 58
        }
      ]
    },
    {
      "cell_type": "code",
      "metadata": {
        "id": "g8SRGFVSZQIe",
        "outputId": "78eb4efa-302d-42e1-cdc4-7c541fff6c94",
        "colab": {
          "base_uri": "https://localhost:8080/",
          "height": 456
        }
      },
      "source": [
        "X_test_prepared = pd.DataFrame(X_test_prepared, columns=X_test.columns, index=X_test.index)\n",
        "X_test_prepared"
      ],
      "execution_count": 59,
      "outputs": [
        {
          "output_type": "execute_result",
          "data": {
            "text/html": [
              "<div>\n",
              "<style scoped>\n",
              "    .dataframe tbody tr th:only-of-type {\n",
              "        vertical-align: middle;\n",
              "    }\n",
              "\n",
              "    .dataframe tbody tr th {\n",
              "        vertical-align: top;\n",
              "    }\n",
              "\n",
              "    .dataframe thead th {\n",
              "        text-align: right;\n",
              "    }\n",
              "</style>\n",
              "<table border=\"1\" class=\"dataframe\">\n",
              "  <thead>\n",
              "    <tr style=\"text-align: right;\">\n",
              "      <th></th>\n",
              "      <th>longitude</th>\n",
              "      <th>latitude</th>\n",
              "      <th>housing_median_age</th>\n",
              "      <th>total_rooms</th>\n",
              "      <th>total_bedrooms</th>\n",
              "      <th>population</th>\n",
              "      <th>households</th>\n",
              "      <th>median_income</th>\n",
              "      <th>rooms_per_household</th>\n",
              "      <th>bedrooms_per_room</th>\n",
              "      <th>population_per_household</th>\n",
              "      <th>ocean_proximity_&lt;1H OCEAN</th>\n",
              "      <th>ocean_proximity_INLAND</th>\n",
              "      <th>ocean_proximity_ISLAND</th>\n",
              "      <th>ocean_proximity_NEAR BAY</th>\n",
              "      <th>ocean_proximity_NEAR OCEAN</th>\n",
              "    </tr>\n",
              "  </thead>\n",
              "  <tbody>\n",
              "    <tr>\n",
              "      <th>5241</th>\n",
              "      <td>0.574715</td>\n",
              "      <td>-0.696209</td>\n",
              "      <td>0.032860</td>\n",
              "      <td>1.602628</td>\n",
              "      <td>1.026670</td>\n",
              "      <td>0.614715</td>\n",
              "      <td>1.105510</td>\n",
              "      <td>2.357904</td>\n",
              "      <td>0.730902</td>\n",
              "      <td>-0.943290</td>\n",
              "      <td>-0.437080</td>\n",
              "      <td>1.104244</td>\n",
              "      <td>-0.673440</td>\n",
              "      <td>-0.026968</td>\n",
              "      <td>-0.346723</td>\n",
              "      <td>-0.385462</td>\n",
              "    </tr>\n",
              "    <tr>\n",
              "      <th>10970</th>\n",
              "      <td>0.838394</td>\n",
              "      <td>-0.860742</td>\n",
              "      <td>0.824710</td>\n",
              "      <td>0.627178</td>\n",
              "      <td>0.236540</td>\n",
              "      <td>0.184453</td>\n",
              "      <td>0.347308</td>\n",
              "      <td>0.404516</td>\n",
              "      <td>0.551471</td>\n",
              "      <td>-0.934662</td>\n",
              "      <td>-0.254840</td>\n",
              "      <td>1.104244</td>\n",
              "      <td>-0.673440</td>\n",
              "      <td>-0.026968</td>\n",
              "      <td>-0.346723</td>\n",
              "      <td>-0.385462</td>\n",
              "    </tr>\n",
              "    <tr>\n",
              "      <th>20351</th>\n",
              "      <td>0.246359</td>\n",
              "      <td>-0.653901</td>\n",
              "      <td>-0.125511</td>\n",
              "      <td>0.711592</td>\n",
              "      <td>0.836331</td>\n",
              "      <td>0.552891</td>\n",
              "      <td>0.899397</td>\n",
              "      <td>-0.446556</td>\n",
              "      <td>-0.224920</td>\n",
              "      <td>-0.017125</td>\n",
              "      <td>-0.352712</td>\n",
              "      <td>1.104244</td>\n",
              "      <td>-0.673440</td>\n",
              "      <td>-0.026968</td>\n",
              "      <td>-0.346723</td>\n",
              "      <td>-0.385462</td>\n",
              "    </tr>\n",
              "    <tr>\n",
              "      <th>6568</th>\n",
              "      <td>0.694117</td>\n",
              "      <td>-0.658602</td>\n",
              "      <td>1.854116</td>\n",
              "      <td>-0.384511</td>\n",
              "      <td>-0.535883</td>\n",
              "      <td>-0.359433</td>\n",
              "      <td>-0.459968</td>\n",
              "      <td>0.160083</td>\n",
              "      <td>0.089414</td>\n",
              "      <td>-0.703905</td>\n",
              "      <td>0.122418</td>\n",
              "      <td>-0.905597</td>\n",
              "      <td>1.484914</td>\n",
              "      <td>-0.026968</td>\n",
              "      <td>-0.346723</td>\n",
              "      <td>-0.385462</td>\n",
              "    </tr>\n",
              "    <tr>\n",
              "      <th>13285</th>\n",
              "      <td>0.927946</td>\n",
              "      <td>-0.719714</td>\n",
              "      <td>0.270415</td>\n",
              "      <td>-0.389200</td>\n",
              "      <td>-0.518177</td>\n",
              "      <td>-0.318495</td>\n",
              "      <td>-0.509043</td>\n",
              "      <td>0.099254</td>\n",
              "      <td>0.270989</td>\n",
              "      <td>-0.611074</td>\n",
              "      <td>0.356963</td>\n",
              "      <td>-0.905597</td>\n",
              "      <td>1.484914</td>\n",
              "      <td>-0.026968</td>\n",
              "      <td>-0.346723</td>\n",
              "      <td>-0.385462</td>\n",
              "    </tr>\n",
              "    <tr>\n",
              "      <th>...</th>\n",
              "      <td>...</td>\n",
              "      <td>...</td>\n",
              "      <td>...</td>\n",
              "      <td>...</td>\n",
              "      <td>...</td>\n",
              "      <td>...</td>\n",
              "      <td>...</td>\n",
              "      <td>...</td>\n",
              "      <td>...</td>\n",
              "      <td>...</td>\n",
              "      <td>...</td>\n",
              "      <td>...</td>\n",
              "      <td>...</td>\n",
              "      <td>...</td>\n",
              "      <td>...</td>\n",
              "      <td>...</td>\n",
              "    </tr>\n",
              "    <tr>\n",
              "      <th>20519</th>\n",
              "      <td>-0.987461</td>\n",
              "      <td>1.400413</td>\n",
              "      <td>0.349600</td>\n",
              "      <td>0.980608</td>\n",
              "      <td>1.374150</td>\n",
              "      <td>0.806872</td>\n",
              "      <td>1.387689</td>\n",
              "      <td>-0.999550</td>\n",
              "      <td>-0.408056</td>\n",
              "      <td>0.346792</td>\n",
              "      <td>-0.455647</td>\n",
              "      <td>-0.905597</td>\n",
              "      <td>1.484914</td>\n",
              "      <td>-0.026968</td>\n",
              "      <td>-0.346723</td>\n",
              "      <td>-0.385462</td>\n",
              "    </tr>\n",
              "    <tr>\n",
              "      <th>17430</th>\n",
              "      <td>-0.445177</td>\n",
              "      <td>-0.447059</td>\n",
              "      <td>0.112045</td>\n",
              "      <td>-0.180297</td>\n",
              "      <td>-0.079954</td>\n",
              "      <td>-0.038615</td>\n",
              "      <td>-0.094363</td>\n",
              "      <td>-0.998379</td>\n",
              "      <td>-0.315366</td>\n",
              "      <td>0.208201</td>\n",
              "      <td>0.005755</td>\n",
              "      <td>-0.905597</td>\n",
              "      <td>-0.673440</td>\n",
              "      <td>-0.026968</td>\n",
              "      <td>-0.346723</td>\n",
              "      <td>2.594289</td>\n",
              "    </tr>\n",
              "    <tr>\n",
              "      <th>4019</th>\n",
              "      <td>0.524964</td>\n",
              "      <td>-0.668003</td>\n",
              "      <td>0.191230</td>\n",
              "      <td>0.164180</td>\n",
              "      <td>0.278592</td>\n",
              "      <td>0.031563</td>\n",
              "      <td>0.428281</td>\n",
              "      <td>0.557413</td>\n",
              "      <td>-0.488889</td>\n",
              "      <td>0.096198</td>\n",
              "      <td>-0.501762</td>\n",
              "      <td>1.104244</td>\n",
              "      <td>-0.673440</td>\n",
              "      <td>-0.026968</td>\n",
              "      <td>-0.346723</td>\n",
              "      <td>-0.385462</td>\n",
              "    </tr>\n",
              "    <tr>\n",
              "      <th>12107</th>\n",
              "      <td>1.107049</td>\n",
              "      <td>-0.757321</td>\n",
              "      <td>-0.125511</td>\n",
              "      <td>1.183542</td>\n",
              "      <td>0.668124</td>\n",
              "      <td>0.795175</td>\n",
              "      <td>0.801248</td>\n",
              "      <td>0.457681</td>\n",
              "      <td>0.632273</td>\n",
              "      <td>-0.966770</td>\n",
              "      <td>-0.061039</td>\n",
              "      <td>-0.905597</td>\n",
              "      <td>1.484914</td>\n",
              "      <td>-0.026968</td>\n",
              "      <td>-0.346723</td>\n",
              "      <td>-0.385462</td>\n",
              "    </tr>\n",
              "    <tr>\n",
              "      <th>2398</th>\n",
              "      <td>0.316011</td>\n",
              "      <td>0.558943</td>\n",
              "      <td>-0.758991</td>\n",
              "      <td>-0.456987</td>\n",
              "      <td>-0.496045</td>\n",
              "      <td>-1.053701</td>\n",
              "      <td>-1.053770</td>\n",
              "      <td>-0.034750</td>\n",
              "      <td>8.130181</td>\n",
              "      <td>-0.217772</td>\n",
              "      <td>-0.397634</td>\n",
              "      <td>-0.905597</td>\n",
              "      <td>1.484914</td>\n",
              "      <td>-0.026968</td>\n",
              "      <td>-0.346723</td>\n",
              "      <td>-0.385462</td>\n",
              "    </tr>\n",
              "  </tbody>\n",
              "</table>\n",
              "<p>4128 rows × 16 columns</p>\n",
              "</div>"
            ],
            "text/plain": [
              "       longitude  ...  ocean_proximity_NEAR OCEAN\n",
              "5241    0.574715  ...                   -0.385462\n",
              "10970   0.838394  ...                   -0.385462\n",
              "20351   0.246359  ...                   -0.385462\n",
              "6568    0.694117  ...                   -0.385462\n",
              "13285   0.927946  ...                   -0.385462\n",
              "...          ...  ...                         ...\n",
              "20519  -0.987461  ...                   -0.385462\n",
              "17430  -0.445177  ...                    2.594289\n",
              "4019    0.524964  ...                   -0.385462\n",
              "12107   1.107049  ...                   -0.385462\n",
              "2398    0.316011  ...                   -0.385462\n",
              "\n",
              "[4128 rows x 16 columns]"
            ]
          },
          "metadata": {
            "tags": []
          },
          "execution_count": 59
        }
      ]
    },
    {
      "cell_type": "markdown",
      "metadata": {
        "id": "_FU-Dp08WVF_"
      },
      "source": [
        "# STEP 4: MODEL TUNING"
      ]
    },
    {
      "cell_type": "markdown",
      "metadata": {
        "id": "00_4o7ABBuvr"
      },
      "source": [
        "Using GridSearchCV to find a great combination of hyperparameter values"
      ]
    },
    {
      "cell_type": "code",
      "metadata": {
        "id": "v8mm6kBo_JNg"
      },
      "source": [
        "from sklearn.model_selection import GridSearchCV\n",
        "def best_estimator(estimator,param_grid,X,y,cv):\n",
        "  grid = GridSearchCV(estimator, param_grid, cv = cv, scoring = 'accuracy', n_jobs=-1)\n",
        "  grid.fit(X,y)\n",
        "  best_estimator = grid.best_estimator_\n",
        "  best_score = grid.best_score_\n",
        "  print(\"Best Params:\", grid.best_params_)\n",
        "  print(\"Best Score:\", grid.best_score_)\n",
        "  print(\"Best Estimator:\", grid.best_estimator_)\n",
        "  return best_estimator, best_score"
      ],
      "execution_count": null,
      "outputs": []
    },
    {
      "cell_type": "markdown",
      "metadata": {
        "id": "gAyyIFvwHFqi"
      },
      "source": [
        "Plot learning curve: `https://scikit-learn.org/stable/auto_examples/model_selection/plot_learning_curve.html`"
      ]
    },
    {
      "cell_type": "code",
      "metadata": {
        "id": "Y-sfosTrEtNv"
      },
      "source": [
        "from sklearn.datasets import load_digits\n",
        "from sklearn.model_selection import learning_curve\n",
        "\n",
        "\n",
        "def plot_learning_curve(estimator, title, X, y, axe=None, ylim=None, cv=None,\n",
        "                        n_jobs=None, train_sizes=np.linspace(.1, 1.0, 5)):\n",
        "    \n",
        "    if axe is None:\n",
        "        _, axe = plt.subplots(figsize=(20, 5))\n",
        "\n",
        "    plt.title(\"Learning Curve with \"+ title)\n",
        "    axe.set_xlabel(\"Training examples\")\n",
        "    axe.set_ylabel(\"Score\")\n",
        "\n",
        "    train_sizes, train_scores, test_scores, fit_times, _ = \\\n",
        "        learning_curve(estimator, X, y, cv=cv, n_jobs=n_jobs,\n",
        "                       train_sizes=train_sizes,\n",
        "                       return_times=True)\n",
        "    train_scores_mean = np.mean(train_scores, axis=1)\n",
        "    train_scores_std = np.std(train_scores, axis=1)\n",
        "    test_scores_mean = np.mean(test_scores, axis=1)\n",
        "    test_scores_std = np.std(test_scores, axis=1)\n",
        "\n",
        "    # Plot learning curve\n",
        "    axe.grid()\n",
        "    axe.fill_between(train_sizes, train_scores_mean - train_scores_std,\n",
        "                         train_scores_mean + train_scores_std, alpha=0.1,\n",
        "                         color=\"r\")\n",
        "    axe.fill_between(train_sizes, test_scores_mean - test_scores_std,\n",
        "                         test_scores_mean + test_scores_std, alpha=0.1,\n",
        "                         color=\"g\")\n",
        "    axe.plot(train_sizes, train_scores_mean, 'o-', color=\"r\",\n",
        "                 label=\"Training score\")\n",
        "    axe.plot(train_sizes, test_scores_mean, 'o-', color=\"g\",\n",
        "                 label=\"Cross-validation score\")\n",
        "    axe.legend(loc=\"best\")\n",
        "\n",
        "    return plt\n"
      ],
      "execution_count": null,
      "outputs": []
    },
    {
      "cell_type": "markdown",
      "metadata": {
        "id": "K6l1sP3_Ak_v"
      },
      "source": [
        "Plot validation curve: `https://scikit-learn.org/stable/auto_examples/model_selection/plot_validation_curve.html`"
      ]
    },
    {
      "cell_type": "code",
      "metadata": {
        "id": "LCQeL6UaUkSY"
      },
      "source": [
        "\n",
        "from sklearn.model_selection import validation_curve\n",
        "\n",
        "def plot_validation_curve(estimator, title, X, y, param_name=None, param_range=None, cv= None, n_jobs=None):\n",
        "  train_scores, test_scores = validation_curve(\n",
        "      estimator, X, y, param_name=param_name, param_range=param_range,\n",
        "      scoring=\"accuracy\", n_jobs=1)\n",
        "  train_scores_mean = np.mean(train_scores, axis=1)\n",
        "  train_scores_std = np.std(train_scores, axis=1)\n",
        "  test_scores_mean = np.mean(test_scores, axis=1)\n",
        "  test_scores_std = np.std(test_scores, axis=1)\n",
        "  plt.subplots(figsize=(20, 5))\n",
        "  plt.title(\"Validation Curve with \"+ title)\n",
        "  plt.xlabel(param_name)\n",
        "  plt.ylabel(\"Score\")\n",
        "  plt.ylim(0.0, 1.1)\n",
        "  lw = 2\n",
        "  plt.semilogx(param_range, train_scores_mean, label=\"Training score\",\n",
        "              color=\"darkorange\", lw=lw)\n",
        "  plt.fill_between(param_range, train_scores_mean - train_scores_std,\n",
        "                  train_scores_mean + train_scores_std, alpha=0.2,\n",
        "                  color=\"darkorange\", lw=lw)\n",
        "  plt.semilogx(param_range, test_scores_mean, label=\"Cross-validation score\",\n",
        "              color=\"navy\", lw=lw)\n",
        "  plt.fill_between(param_range, test_scores_mean - test_scores_std,\n",
        "                  test_scores_mean + test_scores_std, alpha=0.2,\n",
        "                  color=\"navy\", lw=lw)\n",
        "  plt.legend(loc=\"best\")\n",
        "  plt.show()\n"
      ],
      "execution_count": null,
      "outputs": []
    },
    {
      "cell_type": "markdown",
      "metadata": {
        "id": "_a1fy3WKu5DR"
      },
      "source": [
        "# 1) SVC"
      ]
    },
    {
      "cell_type": "code",
      "metadata": {
        "id": "3mE0qFvRw9XF"
      },
      "source": [
        "from sklearn.svm import SVC\n",
        "param_svc = {\n",
        "    'C': [0.001, 0.1, 1, 10, 100] #regularization factor\n",
        "}\n",
        "svc_estimator, svc_score = best_estimator(SVC(), param_svc, housing_prepared, housing_labels, 5) "
      ],
      "execution_count": null,
      "outputs": []
    },
    {
      "cell_type": "code",
      "metadata": {
        "id": "W0xq1A7xFJwh"
      },
      "source": [
        "plot_learning_curve(svc_estimator, \"SVC\", housing_prepared, housing_labels)"
      ],
      "execution_count": null,
      "outputs": []
    },
    {
      "cell_type": "code",
      "metadata": {
        "id": "yA5EGZvnW_Q5"
      },
      "source": [
        "plot_validation_curve(svc_estimator, \"SVC\", housing_prepared, housing_labels, param_name=\"C\", param_range=[0.001, 0.1, 1, 10, 100])"
      ],
      "execution_count": null,
      "outputs": []
    },
    {
      "cell_type": "markdown",
      "metadata": {
        "id": "Hjc_fJp7OyuH"
      },
      "source": [
        "# 2) KNN"
      ]
    },
    {
      "cell_type": "code",
      "metadata": {
        "id": "GzThy7DGO1dO"
      },
      "source": [
        "from sklearn.neighbors import KNeighborsClassifier\n",
        "k_range = np.arange(1,30)\n",
        "param_knn = dict(n_neighbors = k_range)\n",
        "knn_estimator, knn_score = best_estimator(KNeighborsClassifier(), param_knn, housing_prepared, housing_labels, 5)"
      ],
      "execution_count": null,
      "outputs": []
    },
    {
      "cell_type": "code",
      "metadata": {
        "id": "MTrmsUHrPcuL"
      },
      "source": [
        "plot_learning_curve(knn_estimator, \"KNN\", housing_prepared, housing_labels)"
      ],
      "execution_count": null,
      "outputs": []
    },
    {
      "cell_type": "code",
      "metadata": {
        "id": "rcm08XCvQKyp"
      },
      "source": [
        "param_range = [1,3,7,14,20]\n",
        "plot_validation_curve(knn_estimator, \"KNN\", housing_prepared, housing_labels, param_name=\"n_neighbors\", param_range = param_range)"
      ],
      "execution_count": null,
      "outputs": []
    },
    {
      "cell_type": "markdown",
      "metadata": {
        "id": "G5IQCI5NR9ki"
      },
      "source": [
        "# 3) Logistic Regression"
      ]
    },
    {
      "cell_type": "code",
      "metadata": {
        "id": "QchxkR-JSUYf"
      },
      "source": [
        "from sklearn.linear_model import LogisticRegression\n",
        "log_params = {\n",
        "    'C': np.logspace(-3,3,7),\n",
        "    'penalty':['l1','l2']# l1 lasso l2 ridge\n",
        "}\n",
        "log_estimator,log_score = best_estimator(LogisticRegression(max_iter=1000), log_params,housing_prepared, housing_labels,5)"
      ],
      "execution_count": null,
      "outputs": []
    },
    {
      "cell_type": "code",
      "metadata": {
        "id": "Tv0XeNKoTXlN"
      },
      "source": [
        "plot_learning_curve(log_estimator, \"Logistic Regression\", housing_prepared, housing_labels)"
      ],
      "execution_count": null,
      "outputs": []
    },
    {
      "cell_type": "code",
      "metadata": {
        "id": "oeyKCcn_UIPn"
      },
      "source": [
        "param_range = np.logspace(-3,3,7)\n",
        "plot_validation_curve(log_estimator, \"Logistic Regression\", housing_prepared, housing_labels, param_name=\"C\", param_range = param_range)"
      ],
      "execution_count": null,
      "outputs": []
    },
    {
      "cell_type": "markdown",
      "metadata": {
        "id": "utFT20QVWS4Q"
      },
      "source": [
        "# 4) Decision Tree"
      ]
    },
    {
      "cell_type": "code",
      "metadata": {
        "id": "uWrL04d2WVVs"
      },
      "source": [
        "from sklearn.tree import DecisionTreeClassifier\n",
        "dtree_params = {\n",
        "     'max_depth':np.arange(1,20)\n",
        "}\n",
        "dt_estimator,dt_score = best_estimator(DecisionTreeClassifier(), dtree_params, housing_prepared, housing_labels, 5)"
      ],
      "execution_count": null,
      "outputs": []
    },
    {
      "cell_type": "code",
      "metadata": {
        "id": "OdwbfyaVWkDA"
      },
      "source": [
        "plot_learning_curve(dt_estimator, \"Decision Tree\", housing_prepared, housing_labels)"
      ],
      "execution_count": null,
      "outputs": []
    },
    {
      "cell_type": "code",
      "metadata": {
        "id": "3IuU5MxEWunS"
      },
      "source": [
        "param_range = [1,3,8,12,20]\n",
        "plot_validation_curve(dt_estimator, \"Decision Tree\", housing_prepared, housing_labels, param_name=\"max_depth\", param_range = param_range)"
      ],
      "execution_count": null,
      "outputs": []
    },
    {
      "cell_type": "markdown",
      "metadata": {
        "id": "wHbv9je6XCxA"
      },
      "source": [
        "# 5) MLP"
      ]
    },
    {
      "cell_type": "markdown",
      "metadata": {
        "id": "4XVDj_94fBIY"
      },
      "source": [
        "`https://scikit-learn.org/stable/modules/neural_networks_supervised.html`"
      ]
    },
    {
      "cell_type": "code",
      "metadata": {
        "id": "lis9KtICX5bc"
      },
      "source": [
        "from sklearn.neural_network import MLPClassifier\n",
        "mlp_params = {\n",
        "    'hidden_layer_sizes': [(5,),(10,),(20,)]\n",
        "}\n",
        "mlp_estimator, mlp_score = best_estimator(MLPClassifier(max_iter=1000), mlp_params, housing_prepared, housing_labels, 5)"
      ],
      "execution_count": null,
      "outputs": []
    },
    {
      "cell_type": "code",
      "metadata": {
        "id": "-aBvbtCBYLsH"
      },
      "source": [
        "plot_learning_curve(mlp_estimator, \"MLP\", housing_prepared, housing_labels)"
      ],
      "execution_count": null,
      "outputs": []
    },
    {
      "cell_type": "code",
      "metadata": {
        "id": "_duEN99jYRGi"
      },
      "source": [
        "param_range = [1, 20, 50,100]\n",
        "plot_validation_curve(mlp_estimator, \"MLP\", housing_prepared, housing_labels, param_name=\"hidden_layer_sizes\", param_range = param_range)"
      ],
      "execution_count": null,
      "outputs": []
    },
    {
      "cell_type": "markdown",
      "metadata": {
        "id": "yRkXJNwFbm_T"
      },
      "source": [
        "# 6) Ensemble - Random Forest"
      ]
    },
    {
      "cell_type": "code",
      "metadata": {
        "id": "3ALDllY3broZ"
      },
      "source": [
        "from sklearn.ensemble import RandomForestClassifier\n",
        "rForest = [\n",
        "        {'n_estimators': [3, 10, 30, 50, 80, 100, 500], 'max_features': [2, 4, 6, 8, 10, 12]},\n",
        "        {'bootstrap': [False], 'n_estimators': [3, 10], 'max_features': [2, 3, 4]},\n",
        "]\n",
        "rf_estimator, rf_score = best_estimator(RandomForestClassifier(), rForest, housing_prepared, housing_labels, 5)"
      ],
      "execution_count": null,
      "outputs": []
    },
    {
      "cell_type": "code",
      "metadata": {
        "id": "NN8jJxCudOlL"
      },
      "source": [
        "plot_learning_curve(rf_estimator, \"Random Forest Classifier\", housing_prepared, housing_labels)"
      ],
      "execution_count": null,
      "outputs": []
    },
    {
      "cell_type": "code",
      "metadata": {
        "id": "lUAdUCoxdW22"
      },
      "source": [
        "param_range = [3, 10, 30, 50, 80, 100, 500]\n",
        "plot_validation_curve(rf_estimator, \"Random Forest Classifier\", housing_prepared, housing_labels, param_name=\"n_estimators\", param_range = param_range)"
      ],
      "execution_count": null,
      "outputs": []
    },
    {
      "cell_type": "markdown",
      "metadata": {
        "id": "gLwSODwTnB-2"
      },
      "source": [
        "# 7) Voting Classifier"
      ]
    },
    {
      "cell_type": "code",
      "metadata": {
        "id": "4x68IF4jnHT4"
      },
      "source": [
        "from sklearn.ensemble import VotingClassifier\n",
        "from sklearn.model_selection import train_test_split\n",
        "from sklearn.metrics import accuracy_score\n",
        "\n",
        "eclf = VotingClassifier(voting='hard', \n",
        "                        estimators=[('svc', svc_estimator), ('knn', knn_estimator), ('log', log_estimator), ('dt', dt_estimator), ('mlp', mlp_estimator), ('rf', rf_estimator)] )\n",
        "eclf = eclf.fit(housing_prepared, housing_labels)\n",
        "y_pred_voting = eclf.predict(X_test_prepared)\n",
        "voting_score = accuracy_score(y_test, y_pred_voting)\n",
        "print(f\"Voting Accuracy Score = {voting_score}\")"
      ],
      "execution_count": null,
      "outputs": []
    },
    {
      "cell_type": "markdown",
      "metadata": {
        "id": "ZLkDcRRXq9gi"
      },
      "source": [
        "# 8) AutoML"
      ]
    },
    {
      "cell_type": "code",
      "metadata": {
        "id": "CZ15wBvtrBVK"
      },
      "source": [
        "#Auto-sklearn 2.0 includes latest research on automatically configuring the AutoML system itself and contains a multitude of improvements which speed up the fitting the AutoML system.\n",
        "# from autosklearn.experimental.askl2 import AutoSklearn2Classifier\n",
        "# import autosklearn.classification\n",
        "# import sklearn.model_selection\n",
        "# import sklearn.datasets\n",
        "# import sklearn.metrics\n",
        "\n",
        "autoMl = autosklearn.classification.AutoSklearnClassifier()\n",
        "autoMl.fit(housing_prepared, housing_labels)\n",
        "\n",
        "y_pred_automl = autoMl.predict(X_test_prepared)\n",
        "autoMl_score =  sklearn.metrics.accuracy_score(y_test, y_pred_automl)\n",
        "print(f\"AutoML Accuracy Score = {autoMl_score}\")\n"
      ],
      "execution_count": null,
      "outputs": []
    },
    {
      "cell_type": "markdown",
      "metadata": {
        "id": "JtMg4iK0DFd7"
      },
      "source": [
        "# AUC Curve"
      ]
    },
    {
      "cell_type": "markdown",
      "metadata": {
        "id": "S5uDaiWGDyO7"
      },
      "source": [
        "`https://scikit-learn.org/stable/auto_examples/model_selection/plot_roc.html`"
      ]
    },
    {
      "cell_type": "code",
      "metadata": {
        "id": "iBkTfutiDJAK"
      },
      "source": [
        "from sklearn.metrics import roc_curve\n",
        "from sklearn import metrics\n",
        "def plot_roc_curve(estimators, titles, X, y, ax=None):\n",
        "    if ax is None: _, ax = plt.subplots(figsize=(5, 5))\n",
        "\n",
        "    for i, estimator in enumerate(estimators):\n",
        "      y_pred = estimator.predict(X)\n",
        "      fpr, tpr, _ = roc_curve(y, y_pred)\n",
        "      ax.plot(fpr, tpr, label=f\"{titles[i]}, AUC=\" + \"{:.2f}\".format(metrics.auc(fpr, tpr)))\n",
        "\n",
        "    ax.set_title('AUC curve')\n",
        "    ax.legend(loc='best')\n",
        "    ax.set_xlabel('False positive rate')\n",
        "    ax.set_ylabel('True positive rate') \n",
        "    ax.plot([0, 1], [0, 1], color='navy', lw=2, linestyle='--')\n",
        "    return plt\n",
        "\n",
        "estimators = [svc_estimator, knn_estimator, log_estimator, dt_estimator, mlp_estimator, rf_estimator]\n",
        "titles = ['SVC','KNN','LOG','DT','MLP', 'RF']\n",
        "plot_roc_curve(estimators, titles, X_test_prepared, y_test)\n",
        "plt.show()\n"
      ],
      "execution_count": null,
      "outputs": []
    },
    {
      "cell_type": "markdown",
      "metadata": {
        "id": "Rau-SSsdcVeI"
      },
      "source": [
        "# SHAP"
      ]
    },
    {
      "cell_type": "markdown",
      "metadata": {
        "id": "_Oe6lp1eo4DH"
      },
      "source": [
        "`https://www.explorium.ai/blog/interpretability-and-explainability-part-2/`"
      ]
    },
    {
      "cell_type": "code",
      "metadata": {
        "id": "oKPqW4h0mnpz"
      },
      "source": [
        "import shap\n",
        "\n",
        "row = 4\n",
        "data_for_prediction = X_test_prepared.iloc[row]  # use 1 arbitrary row of data\n",
        "data_for_prediction_array = data_for_prediction.values.reshape(1, -1)\n",
        "\n",
        "explainer = shap.TreeExplainer(dt_estimator)\n",
        "shap_values = explainer.shap_values(data_for_prediction)\n",
        "# The shap_values is a list with two arrays. It’s cumbersome to review raw arrays, but the shap package has a nice way to visualize the results.\n",
        "\n",
        "shap.initjs()\n",
        "shap.force_plot(explainer.expected_value[1], shap_values[1], data_for_prediction)"
      ],
      "execution_count": null,
      "outputs": []
    },
    {
      "cell_type": "code",
      "metadata": {
        "id": "IgBrHDLTLb0V"
      },
      "source": [
        "y_test"
      ],
      "execution_count": null,
      "outputs": []
    }
  ]
}